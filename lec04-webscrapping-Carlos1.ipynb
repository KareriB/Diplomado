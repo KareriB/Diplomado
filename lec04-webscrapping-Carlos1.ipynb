{
 "cells": [
  {
   "cell_type": "markdown",
   "metadata": {},
   "source": [
    "<img src=\"../files/misc/logo.png\" width=300/>\n",
    "<h1 style=\"color:#872325\"> Webscrapping </h1>"
   ]
  },
  {
   "cell_type": "markdown",
   "metadata": {},
   "source": [
    "De acuerdo a [Wikipedia](https://es.wikipedia.org/wiki/Web_scraping), Martí Marq, *Web Scrapping*, \n",
    "\n",
    "> es una técnica utilizada mediante programas de software para extraer información de sitios web. Usualmente, estos programas simulan la navegación de un humano en la World Wide Web ya sea utilizando el protocolo HTTP manualmente, o incrustando un navegador en una aplicación.\n",
    "\n",
    "Para fines prácticos, realizamos un web scrapping cuándo no contamos con alguna manera de acceder a información estructurada de datos por analizar (.csv, .json, base de datos, API). "
   ]
  },
  {
   "cell_type": "markdown",
   "metadata": {},
   "source": [
    "---\n",
    "\n",
    "## HTML\n",
    "Al hacer webscrapping, dependemos de la estructura de la página web para poder acceder a la información que deseamos obtener. La estructura de la página web se define mediante un lenguaje llamado `HTML` (Hypertext Markup Language) el cual se compone por medio de *tags*.\n",
    "\n",
    "```HTML\n",
    "<tag>\n",
    "</tag>\n",
    "```\n",
    "\n",
    "Un *tag* define una sección de la página. Cada *tag* tiene una propiedad. Un conjunto de estos tags definen el cuerpo de la página.\n",
    "\n",
    "\n",
    "### Una primera página web\n",
    "```HTML\n",
    "<!DOCTYPE html>\n",
    "<html>\n",
    "<body>\n",
    "\n",
    "<h1>Data Science and Machine Learning</h1>\n",
    "\n",
    "</body>\n",
    "</html>\n",
    "```\n",
    "\n",
    "Para nuestros fines, un *tag* representará una sección dentro de la página la cuál nos gustaría explorar o extraer."
   ]
  },
  {
   "cell_type": "markdown",
   "metadata": {},
   "source": [
    "---\n",
    "\n",
    "## CSS\n",
    "\n",
    "Un *Cascading Style Sheet* (CSS), es un archivo que viene acompañado de un html y define el estilo de la página.\n",
    "\n",
    "```CSS\n",
    "selector {\n",
    "    property: property-value;\n",
    "}\n",
    "```\n",
    "\n",
    "Cada *selector* contiene diferentes [propiedades](http://web.simmons.edu/~grabiner/comm244/weekthree/css-basic-properties.html) de acuerdo al *tag*, clase o *id* que le corresponda.\n",
    "\n",
    "Para fines de webscrapping, un los *tags*, *ids* y *clases* ofrencen estrucura dentro de una página.\n",
    "\n",
    "* Tags: estructura general\n",
    "* Clase: secciones genéricas dentro de una página\n",
    "* *id*: Secciones especifícas"
   ]
  },
  {
   "cell_type": "markdown",
   "metadata": {},
   "source": [
    "---\n",
    "\n",
    "## Javascript y el DOM\n",
    "\n",
    "La mayoría de las páginas que visitamos hoy en día son interactivas. La interactividad de un una página web es proporcionada por un lenguaje de programación llamado `javascript`.\n",
    "\n",
    "La manera en la que Javascript asigna u obtiene elementos de una página se conoce como el *Document Object Notation* (DOM).\n",
    "\n",
    "Para fines de webscrapping, esto es importante puesto que en ocasiones, una página es vacía hasta que un programa de Javascript se ejecuta para arrojar información."
   ]
  },
  {
   "cell_type": "markdown",
   "metadata": {},
   "source": [
    "## Un primer webscrap\n",
    "\n",
    "En este módulo estaremos ocupando la librería [requests_html](https://github.com/psf/requests-html) para hacer webscrapping."
   ]
  },
  {
   "cell_type": "code",
   "execution_count": 1,
   "metadata": {},
   "outputs": [
    {
     "name": "stdout",
     "output_type": "stream",
     "text": [
      "Collecting requests_html\n",
      "  Downloading requests_html-0.10.0-py3-none-any.whl (13 kB)\n",
      "Requirement already satisfied: requests in /Users/marianabarahona/anaconda3/envs/Diplomado_DataScience/lib/python3.11/site-packages (from requests_html) (2.31.0)\n",
      "Collecting pyquery (from requests_html)\n",
      "  Downloading pyquery-2.0.0-py3-none-any.whl.metadata (9.0 kB)\n",
      "Collecting fake-useragent (from requests_html)\n",
      "  Downloading fake_useragent-1.4.0-py3-none-any.whl.metadata (13 kB)\n",
      "Collecting parse (from requests_html)\n",
      "  Downloading parse-1.20.1-py2.py3-none-any.whl.metadata (22 kB)\n",
      "Collecting bs4 (from requests_html)\n",
      "  Downloading bs4-0.0.2-py2.py3-none-any.whl.metadata (411 bytes)\n",
      "Collecting w3lib (from requests_html)\n",
      "  Downloading w3lib-2.1.2-py3-none-any.whl.metadata (1.1 kB)\n",
      "Collecting pyppeteer>=0.0.14 (from requests_html)\n",
      "  Downloading pyppeteer-2.0.0-py3-none-any.whl.metadata (7.1 kB)\n",
      "Requirement already satisfied: appdirs<2.0.0,>=1.4.3 in /Users/marianabarahona/anaconda3/envs/Diplomado_DataScience/lib/python3.11/site-packages (from pyppeteer>=0.0.14->requests_html) (1.4.4)\n",
      "Requirement already satisfied: certifi>=2023 in /Users/marianabarahona/anaconda3/envs/Diplomado_DataScience/lib/python3.11/site-packages (from pyppeteer>=0.0.14->requests_html) (2024.2.2)\n",
      "Collecting importlib-metadata>=1.4 (from pyppeteer>=0.0.14->requests_html)\n",
      "  Downloading importlib_metadata-7.0.1-py3-none-any.whl.metadata (4.9 kB)\n",
      "Collecting pyee<12.0.0,>=11.0.0 (from pyppeteer>=0.0.14->requests_html)\n",
      "  Downloading pyee-11.1.0-py3-none-any.whl.metadata (2.8 kB)\n",
      "Collecting tqdm<5.0.0,>=4.42.1 (from pyppeteer>=0.0.14->requests_html)\n",
      "  Downloading tqdm-4.66.2-py3-none-any.whl.metadata (57 kB)\n",
      "\u001b[2K     \u001b[90m━━━━━━━━━━━━━━━━━━━━━━━━━━━━━━━━━━━━━━━━\u001b[0m \u001b[32m57.6/57.6 kB\u001b[0m \u001b[31m1.4 MB/s\u001b[0m eta \u001b[36m0:00:00\u001b[0m\n",
      "\u001b[?25hCollecting urllib3<2.0.0,>=1.25.8 (from pyppeteer>=0.0.14->requests_html)\n",
      "  Downloading urllib3-1.26.18-py2.py3-none-any.whl.metadata (48 kB)\n",
      "\u001b[2K     \u001b[90m━━━━━━━━━━━━━━━━━━━━━━━━━━━━━━━━━━━━━━━━\u001b[0m \u001b[32m48.9/48.9 kB\u001b[0m \u001b[31m6.1 MB/s\u001b[0m eta \u001b[36m0:00:00\u001b[0m\n",
      "\u001b[?25hCollecting websockets<11.0,>=10.0 (from pyppeteer>=0.0.14->requests_html)\n",
      "  Downloading websockets-10.4-cp311-cp311-macosx_10_9_x86_64.whl.metadata (6.4 kB)\n",
      "Requirement already satisfied: beautifulsoup4 in /Users/marianabarahona/anaconda3/envs/Diplomado_DataScience/lib/python3.11/site-packages (from bs4->requests_html) (4.12.2)\n",
      "Requirement already satisfied: lxml>=2.1 in /Users/marianabarahona/anaconda3/envs/Diplomado_DataScience/lib/python3.11/site-packages (from pyquery->requests_html) (5.1.0)\n",
      "Collecting cssselect>=1.2.0 (from pyquery->requests_html)\n",
      "  Downloading cssselect-1.2.0-py2.py3-none-any.whl.metadata (2.2 kB)\n",
      "Requirement already satisfied: charset-normalizer<4,>=2 in /Users/marianabarahona/anaconda3/envs/Diplomado_DataScience/lib/python3.11/site-packages (from requests->requests_html) (3.3.2)\n",
      "Requirement already satisfied: idna<4,>=2.5 in /Users/marianabarahona/anaconda3/envs/Diplomado_DataScience/lib/python3.11/site-packages (from requests->requests_html) (3.4)\n",
      "Collecting zipp>=0.5 (from importlib-metadata>=1.4->pyppeteer>=0.0.14->requests_html)\n",
      "  Downloading zipp-3.17.0-py3-none-any.whl.metadata (3.7 kB)\n",
      "Requirement already satisfied: typing-extensions in /Users/marianabarahona/anaconda3/envs/Diplomado_DataScience/lib/python3.11/site-packages (from pyee<12.0.0,>=11.0.0->pyppeteer>=0.0.14->requests_html) (4.7.1)\n",
      "Requirement already satisfied: soupsieve>1.2 in /Users/marianabarahona/anaconda3/envs/Diplomado_DataScience/lib/python3.11/site-packages (from beautifulsoup4->bs4->requests_html) (2.5)\n",
      "Downloading pyppeteer-2.0.0-py3-none-any.whl (82 kB)\n",
      "\u001b[2K   \u001b[90m━━━━━━━━━━━━━━━━━━━━━━━━━━━━━━━━━━━━━━━━\u001b[0m \u001b[32m82.9/82.9 kB\u001b[0m \u001b[31m4.4 MB/s\u001b[0m eta \u001b[36m0:00:00\u001b[0m\n",
      "\u001b[?25hDownloading bs4-0.0.2-py2.py3-none-any.whl (1.2 kB)\n",
      "Downloading fake_useragent-1.4.0-py3-none-any.whl (15 kB)\n",
      "Downloading parse-1.20.1-py2.py3-none-any.whl (20 kB)\n",
      "Downloading pyquery-2.0.0-py3-none-any.whl (22 kB)\n",
      "Downloading w3lib-2.1.2-py3-none-any.whl (21 kB)\n",
      "Downloading cssselect-1.2.0-py2.py3-none-any.whl (18 kB)\n",
      "Downloading importlib_metadata-7.0.1-py3-none-any.whl (23 kB)\n",
      "Downloading pyee-11.1.0-py3-none-any.whl (15 kB)\n",
      "Downloading tqdm-4.66.2-py3-none-any.whl (78 kB)\n",
      "\u001b[2K   \u001b[90m━━━━━━━━━━━━━━━━━━━━━━━━━━━━━━━━━━━━━━━━\u001b[0m \u001b[32m78.3/78.3 kB\u001b[0m \u001b[31m5.2 MB/s\u001b[0m eta \u001b[36m0:00:00\u001b[0m\n",
      "\u001b[?25hDownloading urllib3-1.26.18-py2.py3-none-any.whl (143 kB)\n",
      "\u001b[2K   \u001b[90m━━━━━━━━━━━━━━━━━━━━━━━━━━━━━━━━━━━━━━━━\u001b[0m \u001b[32m143.8/143.8 kB\u001b[0m \u001b[31m6.3 MB/s\u001b[0m eta \u001b[36m0:00:00\u001b[0m\n",
      "\u001b[?25hDownloading websockets-10.4-cp311-cp311-macosx_10_9_x86_64.whl (97 kB)\n",
      "\u001b[2K   \u001b[90m━━━━━━━━━━━━━━━━━━━━━━━━━━━━━━━━━━━━━━━━\u001b[0m \u001b[32m97.9/97.9 kB\u001b[0m \u001b[31m9.6 MB/s\u001b[0m eta \u001b[36m0:00:00\u001b[0m\n",
      "\u001b[?25hDownloading zipp-3.17.0-py3-none-any.whl (7.4 kB)\n",
      "Installing collected packages: parse, fake-useragent, zipp, websockets, w3lib, urllib3, tqdm, pyee, cssselect, pyquery, importlib-metadata, bs4, pyppeteer, requests_html\n",
      "  Attempting uninstall: urllib3\n",
      "    Found existing installation: urllib3 2.2.0\n",
      "    Uninstalling urllib3-2.2.0:\n",
      "      Successfully uninstalled urllib3-2.2.0\n",
      "Successfully installed bs4-0.0.2 cssselect-1.2.0 fake-useragent-1.4.0 importlib-metadata-7.0.1 parse-1.20.1 pyee-11.1.0 pyppeteer-2.0.0 pyquery-2.0.0 requests_html-0.10.0 tqdm-4.66.2 urllib3-1.26.18 w3lib-2.1.2 websockets-10.4 zipp-3.17.0\n",
      "Note: you may need to restart the kernel to use updated packages.\n"
     ]
    }
   ],
   "source": [
    "pip install requests_html"
   ]
  },
  {
   "cell_type": "code",
   "execution_count": 4,
   "metadata": {},
   "outputs": [],
   "source": [
    "#pip install requests_html\n",
    "#import requests_html\n",
    "from requests_html import HTML    "
   ]
  },
  {
   "cell_type": "code",
   "execution_count": 5,
   "metadata": {},
   "outputs": [
    {
     "ename": "FileNotFoundError",
     "evalue": "[Errno 2] No such file or directory: '../files/lec04/ex03.html'",
     "output_type": "error",
     "traceback": [
      "\u001b[0;31m---------------------------------------------------------------------------\u001b[0m",
      "\u001b[0;31mFileNotFoundError\u001b[0m                         Traceback (most recent call last)",
      "Cell \u001b[0;32mIn[5], line 1\u001b[0m\n\u001b[0;32m----> 1\u001b[0m \u001b[38;5;28;01mwith\u001b[39;00m \u001b[38;5;28mopen\u001b[39m(\u001b[38;5;124m\"\u001b[39m\u001b[38;5;124m../files/lec04/ex03.html\u001b[39m\u001b[38;5;124m\"\u001b[39m) \u001b[38;5;28;01mas\u001b[39;00m f:\n\u001b[1;32m      2\u001b[0m     webp \u001b[38;5;241m=\u001b[39m f\u001b[38;5;241m.\u001b[39mread()\n\u001b[1;32m      4\u001b[0m html \u001b[38;5;241m=\u001b[39m HTML(html\u001b[38;5;241m=\u001b[39mwebp)\n",
      "File \u001b[0;32m~/anaconda3/envs/Diplomado_DataScience/lib/python3.11/site-packages/IPython/core/interactiveshell.py:286\u001b[0m, in \u001b[0;36m_modified_open\u001b[0;34m(file, *args, **kwargs)\u001b[0m\n\u001b[1;32m    279\u001b[0m \u001b[38;5;28;01mif\u001b[39;00m file \u001b[38;5;129;01min\u001b[39;00m {\u001b[38;5;241m0\u001b[39m, \u001b[38;5;241m1\u001b[39m, \u001b[38;5;241m2\u001b[39m}:\n\u001b[1;32m    280\u001b[0m     \u001b[38;5;28;01mraise\u001b[39;00m \u001b[38;5;167;01mValueError\u001b[39;00m(\n\u001b[1;32m    281\u001b[0m         \u001b[38;5;124mf\u001b[39m\u001b[38;5;124m\"\u001b[39m\u001b[38;5;124mIPython won\u001b[39m\u001b[38;5;124m'\u001b[39m\u001b[38;5;124mt let you open fd=\u001b[39m\u001b[38;5;132;01m{\u001b[39;00mfile\u001b[38;5;132;01m}\u001b[39;00m\u001b[38;5;124m by default \u001b[39m\u001b[38;5;124m\"\u001b[39m\n\u001b[1;32m    282\u001b[0m         \u001b[38;5;124m\"\u001b[39m\u001b[38;5;124mas it is likely to crash IPython. If you know what you are doing, \u001b[39m\u001b[38;5;124m\"\u001b[39m\n\u001b[1;32m    283\u001b[0m         \u001b[38;5;124m\"\u001b[39m\u001b[38;5;124myou can use builtins\u001b[39m\u001b[38;5;124m'\u001b[39m\u001b[38;5;124m open.\u001b[39m\u001b[38;5;124m\"\u001b[39m\n\u001b[1;32m    284\u001b[0m     )\n\u001b[0;32m--> 286\u001b[0m \u001b[38;5;28;01mreturn\u001b[39;00m io_open(file, \u001b[38;5;241m*\u001b[39margs, \u001b[38;5;241m*\u001b[39m\u001b[38;5;241m*\u001b[39mkwargs)\n",
      "\u001b[0;31mFileNotFoundError\u001b[0m: [Errno 2] No such file or directory: '../files/lec04/ex03.html'"
     ]
    }
   ],
   "source": [
    "with open(\"../files/lec04/ex03.html\") as f:\n",
    "    webp = f.read()\n",
    "\n",
    "html = HTML(html=webp)\n",
    "print(html.html)"
   ]
  },
  {
   "cell_type": "code",
   "execution_count": 10,
   "metadata": {
    "scrolled": true
   },
   "outputs": [
    {
     "name": "stdout",
     "output_type": "stream",
     "text": [
      "<!DOCTYPE html>\n",
      "<html>\n",
      "<head>\n",
      "    <link href=\"style2.css\" rel=\"stylesheet\"/>\n",
      "</head>\n",
      "\n",
      "<body>\n",
      "\n",
      "    <h1>Data Science and Machine Learning</h1>\n",
      "\n",
      "    <div class=\"my_class\">\n",
      "        <p> By <a href=\"https://bit.ly/34EdyH2\">Analysic Nabla</a></p>\n",
      "        <p> At the <a href=\"https://bit.ly/2qDvao4\">ITAM</a></p>\n",
      "    </div>\n",
      "\n",
      "</body>\n",
      "</html>\n",
      "\n"
     ]
    }
   ],
   "source": [
    "with open(r\"/Users/marianabarahona/Desktop/Diplomado/Modulo 3/lec04/ex03.html\") as f:\n",
    "    webp = f.read()\n",
    "\n",
    "html = HTML(html=webp)\n",
    "print(html.html)"
   ]
  },
  {
   "cell_type": "code",
   "execution_count": 11,
   "metadata": {},
   "outputs": [
    {
     "data": {
      "text/plain": [
       "{'https://bit.ly/2qDvao4', 'https://bit.ly/34EdyH2'}"
      ]
     },
     "execution_count": 11,
     "metadata": {},
     "output_type": "execute_result"
    }
   ],
   "source": [
    "# Extrayendo todos los links de la página\n",
    "html.links"
   ]
  },
  {
   "cell_type": "code",
   "execution_count": 12,
   "metadata": {},
   "outputs": [
    {
     "data": {
      "text/plain": [
       "'Data Science and Machine Learning'"
      ]
     },
     "execution_count": 12,
     "metadata": {},
     "output_type": "execute_result"
    }
   ],
   "source": [
    "# Extrayendo el primer encabezado de la página\n",
    "html.find(\"H1\", first=True).text"
   ]
  },
  {
   "cell_type": "code",
   "execution_count": 13,
   "metadata": {},
   "outputs": [
    {
     "data": {
      "text/plain": [
       "[<Element 'p' >, <Element 'p' >]"
      ]
     },
     "execution_count": 13,
     "metadata": {},
     "output_type": "execute_result"
    }
   ],
   "source": [
    "# Buscando todos los elementos <p> (paragrapshs)\n",
    "html.find(\"p\")"
   ]
  },
  {
   "cell_type": "code",
   "execution_count": 14,
   "metadata": {},
   "outputs": [
    {
     "data": {
      "text/plain": [
       "<Element 'div' class=('my_class',)>"
      ]
     },
     "execution_count": 14,
     "metadata": {},
     "output_type": "execute_result"
    }
   ],
   "source": [
    "# Extrayendo una sección dentro de un div\n",
    "html.find(\"div\", first=True)"
   ]
  },
  {
   "cell_type": "markdown",
   "metadata": {},
   "source": [
    "### Un segundo ejemplo"
   ]
  },
  {
   "cell_type": "code",
   "execution_count": 17,
   "metadata": {},
   "outputs": [
    {
     "name": "stdout",
     "output_type": "stream",
     "text": [
      "<!DOCTYPE html>\n",
      "<html>\n",
      "<head>\n",
      "    <link href=\"style2.css\" rel=\"stylesheet\"/>\n",
      "    <script>\n",
      "        function sendGreeting() {\n",
      "            document.getElementById(\"greeting\").innerHTML = \"Aprendamos a hacer webscrapping!\"\n",
      "        }\n",
      "        \n",
      "\n",
      "    </script>\n",
      "</head>\n",
      "\n",
      "<body onload=\"sendGreeting()\">\n",
      "    <h1>Data Science and Machine Learning</h1>\n",
      "\n",
      "    <div class=\"my_class\">\n",
      "        <p>Por Analysic Nabla</p>\n",
      "        <p>En el ITAM</p>\n",
      "        <p id=\"greeting\"></p>\n",
      "    </div>\n",
      "\n",
      "</body>\n",
      "</html>\n",
      "\n"
     ]
    }
   ],
   "source": [
    "with open(r\"/Users/marianabarahona/Desktop/Diplomado/Modulo 3/lec04/ex04.html\") as f:\n",
    "    webp = f.read()\n",
    "\n",
    "html = HTML(html=webp)\n",
    "print(html.html)"
   ]
  },
  {
   "cell_type": "code",
   "execution_count": 18,
   "metadata": {},
   "outputs": [
    {
     "name": "stdout",
     "output_type": "stream",
     "text": [
      "Por Analysic Nabla\n",
      "En el ITAM\n",
      "\n"
     ]
    }
   ],
   "source": [
    "# ¿Qué notamos en este ejemplo que no concuerde\n",
    "# con lo que esperaríamos ver en la página?\n",
    "for item in html.find(\"p\"):\n",
    "    print(item.text)"
   ]
  },
  {
   "cell_type": "code",
   "execution_count": 19,
   "metadata": {},
   "outputs": [
    {
     "data": {
      "text/plain": [
       "<Element 'p' id='greeting'>"
      ]
     },
     "execution_count": 19,
     "metadata": {},
     "output_type": "execute_result"
    }
   ],
   "source": [
    "html.find(\"p[id='greeting']\", first=True)"
   ]
  },
  {
   "cell_type": "code",
   "execution_count": 20,
   "metadata": {},
   "outputs": [],
   "source": [
    "# La libreria que utilices tiene que estar instalada tanto en tu compu como en el servidor virtual que estes utilizando. "
   ]
  },
  {
   "cell_type": "markdown",
   "metadata": {},
   "source": [
    "<h1 style=\"color:#872325\">HTTP Requests</h1>\n",
    "\n",
    "Las páginas que visitamos día a día viven en un servidor y no en nuestra computadora. Al abrir nuestro navegador y entrar a una página, el navegador solicita la información de la página al servidor por medio de un proceso de intercambio de información conocido como HTTP.\n",
    "\n",
    "> *Hypertext Transfer Protocol* (HTTP) es un proceso mediante el cual se hace un intercambio de información entre un cliente (un navegador) y un servidor por medio de mensajes.\n",
    "\n",
    "![server](https://mdn.mozillademos.org/files/13677/Fetching_a_page.png)\n",
    "**Fuente**x: https://developer.mozilla.org"
   ]
  },
  {
   "cell_type": "markdown",
   "metadata": {},
   "source": [
    "Dependiendo del tipo de mensaje que le mandemos a un servidor, este procesará la información enviada desde el cliente (nosotros) de diferentes maneras. Para fines de webscrapping, los métodos más comúnes de comunicarte con un servidor son:\n",
    "\n",
    "* `GET`: Solicitia un archivo determinado al servidor. Un *GET Request* se debe usar exclusivamente para adquirir información.\n",
    "    * Obtener información de una página web\n",
    "    * Cargar una imágen\n",
    "\n",
    "* `POST`: Envía datos al servidor para ser procesados\n",
    "    * Dejar tu número celular en una página\n",
    "    * Loggearte\n",
    "    * Dejar un comentario en un blog post"
   ]
  },
  {
   "cell_type": "markdown",
   "metadata": {},
   "source": [
    "En Python, podemos hacer conexiones a una página por medio de la librería `requests`"
   ]
  },
  {
   "cell_type": "code",
   "execution_count": 21,
   "metadata": {},
   "outputs": [],
   "source": [
    "import requests"
   ]
  },
  {
   "cell_type": "code",
   "execution_count": 24,
   "metadata": {},
   "outputs": [
    {
     "data": {
      "text/plain": [
       "<Response [200]>"
      ]
     },
     "execution_count": 24,
     "metadata": {},
     "output_type": "execute_result"
    }
   ],
   "source": [
    "r = requests.get(\"https://nabla.mx\")\n",
    "r # Te traes todo el código de HTML (es como ponerle inspect a una página)\n",
    "# Si te da response [200] es que hizo la conexión"
   ]
  },
  {
   "cell_type": "markdown",
   "metadata": {},
   "source": [
    "Posteriormente tendríamos que pasarlo a una instancia de la clase `HTML` para poder analizar la página. Para evitar esto, podemos hacer uso de la clase `HTMLSession` que nos permite hacer llamadas al servidor y acceso al html que nos regrese."
   ]
  },
  {
   "cell_type": "code",
   "execution_count": 25,
   "metadata": {},
   "outputs": [],
   "source": [
    "from requests_html import HTMLSession"
   ]
  },
  {
   "cell_type": "code",
   "execution_count": 26,
   "metadata": {},
   "outputs": [
    {
     "data": {
      "text/plain": [
       "<Response [200]>"
      ]
     },
     "execution_count": 26,
     "metadata": {},
     "output_type": "execute_result"
    }
   ],
   "source": [
    "with HTMLSession() as sess:\n",
    "    r = sess.get(\"https://nabla.mx\")\n",
    "r"
   ]
  },
  {
   "cell_type": "code",
   "execution_count": 28,
   "metadata": {},
   "outputs": [
    {
     "data": {
      "text/plain": [
       "{'http://nabla.mx/',\n",
       " 'http://nabla.mx/?page_id=2789',\n",
       " 'http://nabla.mx/?page_id=2820',\n",
       " 'http://nabla.mx/?page_id=2884',\n",
       " 'http://nabla.mx/?page_id=3197',\n",
       " 'https://api.whatsapp.com/send?phone=+7711123473&text=Me%20gustar%C3%ADa%20recibir%20ayuda%20personalizada',\n",
       " 'https://nabla.mx/',\n",
       " 'https://nabla.mx/?page_id=2770',\n",
       " 'https://nabla.mx/?page_id=2789',\n",
       " 'https://nabla.mx/?page_id=2820',\n",
       " 'https://nabla.mx/?page_id=2884',\n",
       " 'https://nabla.mx/?page_id=3197',\n",
       " 'https://nabla.mx/?page_id=3259',\n",
       " 'https://nabla.mx/wp-content/uploads/2023/02/Cableado-Azul.png',\n",
       " 'https://nabla.mx/wp-content/uploads/2023/02/server-administrator-looking-after-data-center-roo-2021-10-12-03-01-55-utc-1.png',\n",
       " 'https://nabla.mx/wp-content/uploads/2023/02/wifi-router-on-a-table-smart-connection-2021-08-30-12-17-38-utc-1.png',\n",
       " 'https://nabla.mx/wp-content/uploads/2023/02/young-man-in-uniform-with-measuring-device-works-w-2021-08-28-22-30-54-utc-1.png',\n",
       " 'https://www.facebook.com/profile.php?id=100083998246099',\n",
       " 'tel:7719802870'}"
      ]
     },
     "execution_count": 28,
     "metadata": {},
     "output_type": "execute_result"
    }
   ],
   "source": [
    "r.html.links # Accedes a todos los links que hay"
   ]
  },
  {
   "cell_type": "code",
   "execution_count": 29,
   "metadata": {},
   "outputs": [
    {
     "data": {
      "text/plain": [
       "<Response [200]>"
      ]
     },
     "execution_count": 29,
     "metadata": {},
     "output_type": "execute_result"
    }
   ],
   "source": [
    "with HTMLSession() as sess:\n",
    "    r = sess.get(\"https://www.itam.mx/\")\n",
    "r"
   ]
  },
  {
   "cell_type": "code",
   "execution_count": 30,
   "metadata": {},
   "outputs": [
    {
     "data": {
      "text/plain": [
       "{'../node/13',\n",
       " '../node/212',\n",
       " '/es/1/contenido/rio-hondo',\n",
       " '/es/1/contenido/santa-teresa',\n",
       " '/es/1/paginas/ceremonias-aniversarios',\n",
       " '/es/1/paginas/directores-generales-y-rectores-del-itam',\n",
       " '/es/1/paginas/don-alberto-bailleres',\n",
       " '/es/1/paginas/historia-del-itam',\n",
       " '/es/1/paginas/junta-de-gobierno',\n",
       " '/es/1/paginas/publicaciones-de-la-facultad-en-linea',\n",
       " '/es/1/paginas/raul-bailleres',\n",
       " '/es/1/paginas/rectoria',\n",
       " '/es/1/paginas/responsabilidad-social',\n",
       " '/es/1/paginas/servicios-y-pagos',\n",
       " '/es/1/paginas/transporte-gratuito',\n",
       " '/es/1/paginas/vicerrectoria',\n",
       " '/es/acreditaciones-0',\n",
       " '/es/alumnos-de-nuevo-ingreso',\n",
       " '/es/asociaciones-y-representaciones',\n",
       " '/es/becas',\n",
       " '/es/carrera-al-universo-y-merito-profesional',\n",
       " '/es/centro-de-docencia-y-aprendizaje-itam',\n",
       " '/es/centros-de-los-departamentos-academicos',\n",
       " '/es/contacto-1',\n",
       " '/es/cronologia',\n",
       " '/es/direccion-de-asuntos-estudiantiles',\n",
       " '/es/divisiones-departamentos-y-programas-academicos',\n",
       " '/es/el-itam-y-su-entorno',\n",
       " '/es/estacionamiento',\n",
       " '/es/junta-de-coordinacion',\n",
       " '/es/medidas-del-itam-ante-el-covid-19',\n",
       " '/es/mision',\n",
       " '/es/node/212',\n",
       " '/es/node/216',\n",
       " '/es/node/222',\n",
       " '/es/node/223',\n",
       " '/es/node/226',\n",
       " '/es/node/228',\n",
       " '/es/node/230',\n",
       " '/es/node/232',\n",
       " '/es/node/233',\n",
       " '/es/node/236',\n",
       " '/es/node/241',\n",
       " '/es/node/243',\n",
       " '/es/node/245',\n",
       " '/es/node/252',\n",
       " '/es/node/260',\n",
       " '/es/node/264',\n",
       " '/es/node/269',\n",
       " '/es/node/275',\n",
       " '/es/node/282',\n",
       " '/es/node/286',\n",
       " '/es/node/287',\n",
       " '/es/node/288',\n",
       " '/es/node/289',\n",
       " '/es/node/293',\n",
       " '/es/node/294',\n",
       " '/es/node/349',\n",
       " '/es/node/add',\n",
       " '/es/node?page=1',\n",
       " '/es/noticia/diana-rosales-exalumna-del-itam-es-nombrada-directora-legal-mergers-and-acquisitions-de',\n",
       " '/es/organigrama',\n",
       " '/es/oruga-para-movilidad-itam-rio-hondo',\n",
       " '/es/preguntas-frecuentes',\n",
       " '/es/premios-y-distinciones',\n",
       " '/es/programas-conjuntos',\n",
       " '/es/publicaciones-estudiantiles',\n",
       " '/es/revistas-institucionales',\n",
       " '/es/sobre-el-itam-0',\n",
       " '/es/sustentabilidad',\n",
       " 'http://actuaria.itam.mx/',\n",
       " 'http://administracion.itam.mx/',\n",
       " 'http://admisiones.itam.mx/posgrados_admisiones/admisiones.html',\n",
       " 'http://aspirantes.itam.mx/',\n",
       " 'http://aspirantes.itam.mx/examenes-aspirantes',\n",
       " 'http://autoestudio.itam.mx/',\n",
       " 'http://aviso.itam.mx',\n",
       " 'http://aviso.itam.mx/',\n",
       " 'http://biblioteca.itam.mx',\n",
       " 'http://biblioteca.itam.mx/site/',\n",
       " 'http://bolsa.itam.mx',\n",
       " 'http://bolsa.itam.mx/',\n",
       " 'http://caie.itam.mx/',\n",
       " 'http://ccmanuelgomezmorin.org.mx/ccmgm/',\n",
       " 'http://cec.itam.mx/',\n",
       " 'http://centrocovid.itam.mx',\n",
       " 'http://centrodeenergia.itam.mx/',\n",
       " 'http://cesig.itam.mx/',\n",
       " 'http://cienciadedatos.itam.mx',\n",
       " 'http://computacion.itam.mx/',\n",
       " 'http://comunidad.itam.mx/owa',\n",
       " 'http://contaduria.itam.mx/',\n",
       " 'http://copal.itam.mx/bolsa/',\n",
       " 'http://correo.itam.mx/es/index.php',\n",
       " 'http://daac.itam.mx/',\n",
       " 'http://daac.itam.mx/sites/default/files/programas/planes/plan_administracion.pdf',\n",
       " 'http://daac.itam.mx/sites/default/files/programas/planes/plan_conta_estrategia.pdf',\n",
       " 'http://daac.itam.mx/sites/default/files/programas/planes/plan_direccion.pdf',\n",
       " 'http://daaem.itam.mx/',\n",
       " 'http://daaem.itam.mx/sites/default/files/programas/planes/plan_actuaria.pdf',\n",
       " 'http://daaem.itam.mx/sites/default/files/programas/planes/plan_matematicas.pdf',\n",
       " 'http://dac.itam.mx/',\n",
       " 'http://daedcs.itam.mx/',\n",
       " 'http://daedcs.itam.mx/sites/default/files/programas/folletos/lic_ciepol.pdf',\n",
       " 'http://daedcs.itam.mx/sites/default/files/programas/planes/plan_derecho.pdf',\n",
       " 'http://daedcs.itam.mx/sites/default/files/programas/planes/plan_economia.pdf',\n",
       " 'http://daegi.itam.mx/',\n",
       " 'http://daegi.itam.mx/sites/default/files/programas/planes/plan_rel_inter.pdf',\n",
       " 'http://dai.itam.mx/',\n",
       " 'http://dai.itam.mx/sites/default/files/programas/planes/plan_ing_computacion.pdf',\n",
       " 'http://dai.itam.mx/sites/default/files/programas/planes/plan_ing_industrial.pdf',\n",
       " 'http://dai.itam.mx/sites/default/files/programas/planes/plan_ing_mecatronica.pdf',\n",
       " 'http://dai.itam.mx/sites/default/files/programas/planes/plan_ing_negocios.pdf',\n",
       " 'http://departamentodeactuaria.itam.mx/',\n",
       " 'http://departamentodeadministracion.itam.mx/',\n",
       " 'http://departamentodecienciapolitica.itam.mx/',\n",
       " 'http://departamentodecontabilidad.itam.mx/',\n",
       " 'http://departamentodederecho.itam.mx/',\n",
       " 'http://departamentodeeconomia.itam.mx/',\n",
       " 'http://departamentodematematicas.itam.mx/',\n",
       " 'http://derecho.itam.mx/',\n",
       " 'http://desarrolloejecutivo.itam.mx',\n",
       " 'http://digitales.itam.mx/',\n",
       " 'http://direccionfinanciera.itam.mx/',\n",
       " 'http://directorio.itam.mx/',\n",
       " 'http://directorio.itam.mx/d.php',\n",
       " 'http://donar.itam.mx/es',\n",
       " 'http://donar.itam.mx/es/69/paginas/donar-en-linea',\n",
       " 'http://economia.itam.mx/',\n",
       " 'http://epiclab.itam.mx/',\n",
       " 'http://escolar.itam.mx',\n",
       " 'http://escolar.itam.mx/',\n",
       " 'http://escolar.itam.mx/documentos/reg_lic.pdf',\n",
       " 'http://escolar.itam.mx/licenciaturas/lics_admisiones.php',\n",
       " 'http://escolar.itam.mx/lics_control/control_html.htm',\n",
       " 'http://escolar.itam.mx/lics_control/control_html.php',\n",
       " 'http://escolar.itam.mx/posgrados_admisiones/admisiones.php',\n",
       " 'http://escolar.itam.mx/posgrados_controlescolar/calendarios_pos.php',\n",
       " 'http://escolar.itam.mx/posgrados_controlescolar/controlesc.html',\n",
       " 'http://escolar.itam.mx/posgrados_controlescolar/controlesc.php',\n",
       " 'http://escolar.itam.mx/servicios_escolares/calendarios.html',\n",
       " 'http://escolar.itam.mx/servicios_escolares/calendarios.php',\n",
       " 'http://escolar.itam.mx/servicios_escolares/servicios_reinscripciones.html',\n",
       " 'http://escolar.itam.mx/servicios_escolares/servicios_reinscripciones.php',\n",
       " 'http://especialidades.itam.mx/es',\n",
       " 'http://estadistica.itam.mx/',\n",
       " 'http://eventos.itam.mx/',\n",
       " 'http://eventos.itam.mx/es/evento/career-services-del-itam-invita-la-sesion-de-reclutamiento-presencial-de-accel-kkr',\n",
       " 'http://eventos.itam.mx/es/evento/conferencia-magistral-chat-gpt-instrucciones-de-uso-y-otros-trucos',\n",
       " 'http://eventos.itam.mx/es/evento/miercoles-de-wellbeing-al-aire-libre-en-plaza-roja-3',\n",
       " 'http://eventos.itam.mx/es/evento/rumbo-la-conmemoracion-de-los-100-anos-de-la-publicacion-del-ensayo-1915-de-manuel-gomez',\n",
       " 'http://executivemba.itam.mx/',\n",
       " 'http://facultad.itam.mx/es/',\n",
       " 'http://generales.itam.mx/',\n",
       " 'http://hammurabi.itam.mx/F/-?func=bor-info&local_base=ACERVOITAM',\n",
       " 'http://industrial.itam.mx/',\n",
       " 'http://industrialyoperaciones.itam.mx/',\n",
       " 'http://ingmecatronica.itam.mx/',\n",
       " 'http://ingnegocios.itam.mx/',\n",
       " 'http://intercambio.itam.mx/',\n",
       " 'http://intercambio.itam.mx/becas-para-posgrados',\n",
       " 'http://intercambio.itam.mx/becas/becas.html',\n",
       " 'http://intercambio.itam.mx/es/alumnos-internacionales-por-que-itam',\n",
       " 'http://intercambio.itam.mx/es/licenciatura-intercambio-acad%C3%A9mico-introducci%C3%B3n',\n",
       " 'http://intercambio.itam.mx/es/licenciatura-verano-en-el-extranjero-introduccion',\n",
       " 'http://intercambio.itam.mx/extranjeros/extranjeros.html',\n",
       " 'http://intercambio.itam.mx/licing/licing_eng.html',\n",
       " 'http://internacionales.itam.mx/es',\n",
       " 'http://itam.instructure.com/',\n",
       " 'http://itam.mx/sites/default/files/programs/brochure/Accounting and Financial Strategy_2017_web.pdf',\n",
       " 'http://itam.mx/sites/default/files/programs/brochure/Actuarial Sciences_2017_web.pdf',\n",
       " 'http://itam.mx/sites/default/files/programs/brochure/Applied Mathematics_2017_web.pdf',\n",
       " 'http://itam.mx/sites/default/files/programs/brochure/Business Administration_2017_web.pdf',\n",
       " 'http://itam.mx/sites/default/files/programs/brochure/Business Engineering_2017_web.pdf',\n",
       " 'http://itam.mx/sites/default/files/programs/brochure/Computer Science_2017_web.pdf',\n",
       " 'http://itam.mx/sites/default/files/programs/brochure/Financial Strategy_2017_web.pdf',\n",
       " 'http://itam.mx/sites/default/files/programs/brochure/Industrial Engineering_2017_web.pdf',\n",
       " 'http://itam.mx/sites/default/files/programs/brochure/International Relations_2017_web.pdf',\n",
       " 'http://itam.mx/sites/default/files/programs/brochure/Law_2017_web.pdf',\n",
       " 'http://itam.mx/sites/default/files/programs/brochure/Mechatronics Engineering_2017_web.pdf',\n",
       " 'http://itam.mx/sites/default/files/programs/brochure/Political Science_2017_web.pdf',\n",
       " 'http://itam.mx/sites/default/files/programs/brochure/economics_2017_web.pdf',\n",
       " 'http://lenguas.itam.mx/',\n",
       " 'http://maestriaeconomia.itam.mx/',\n",
       " 'http://matematicas.itam.mx/',\n",
       " 'http://mba.itam.mx/',\n",
       " 'http://mcc.itam.mx/es',\n",
       " 'http://mcienciadatos.itam.mx/',\n",
       " 'http://mcontaduria.itam.mx/',\n",
       " 'http://mderecho.itam.mx/',\n",
       " 'http://mdi.itam.mx/',\n",
       " 'http://mecatronica.itam.mx/',\n",
       " 'http://mef.itam.mx/',\n",
       " 'http://mercadotecnia.itam.mx/',\n",
       " 'http://merlin.itam.mx/ProyectoSolicitud/acceso.jsp',\n",
       " 'http://merlin.itam.mx/RegistroAdmisiones/',\n",
       " 'http://merlin.itam.mx/RegistroAdmisionesPosg/',\n",
       " 'http://mriesgos.itam.mx/',\n",
       " 'http://mteoriaeconomica.itam.mx/',\n",
       " 'http://mtia.itam.mx/',\n",
       " 'http://musica.itam.mx/',\n",
       " 'http://news.itam.mx/',\n",
       " 'http://normatividad.itam.mx/fileupload/',\n",
       " 'http://phdeconomia.itam.mx/',\n",
       " 'http://politica.itam.mx/',\n",
       " 'http://politicaspublicas.itam.mx/es',\n",
       " 'http://posgrados.itam.mx/',\n",
       " 'http://proteccioncivil.itam.mx/',\n",
       " 'http://relacionesinternacionales.itam.mx/',\n",
       " 'http://salud.itam.mx/',\n",
       " 'http://veranoenelextranjero.itam.mx/',\n",
       " 'http://www.itam.mx/node/107',\n",
       " 'http://www.itam.mx/node/25',\n",
       " 'http://www.itam.mx/node/38248',\n",
       " 'http://www.itam.mx/node/80',\n",
       " 'http://www.itam.mx/sites/default/files/ayuda_financiera.pdf',\n",
       " 'http://www.itammun.org.mx/',\n",
       " 'http://www.normatividad.itam.mx/',\n",
       " 'https://acceso.itam.mx/',\n",
       " 'https://actuaria.itam.mx',\n",
       " 'https://administracion.itam.mx',\n",
       " 'https://aspirantes.itam.mx/es',\n",
       " 'https://avisodeprivacidad.itam.mx/politicadeprivacidad/',\n",
       " 'https://biblioteca.itam.mx/',\n",
       " 'https://cienciadedatos.itam.mx/',\n",
       " 'https://computacion.itam.mx',\n",
       " 'https://comunidad.itam.mx',\n",
       " 'https://comunidad.itam.mx/',\n",
       " 'https://comunidad.itam.mx/CookieAuth.dll?GetLogon?curl=Z2F&reason=0&formdir=5',\n",
       " 'https://contaduria.itam.mx/es',\n",
       " 'https://derecho.itam.mx',\n",
       " 'https://direccionfinanciera.itam.mx',\n",
       " 'https://direccionmercadotecnia.itam.mx/es',\n",
       " 'https://directorio.itam.mx/d.php',\n",
       " 'https://economia.itam.mx',\n",
       " 'https://eventos.itam.mx/es/noticia/lanzamiento-linea-origen-itam',\n",
       " 'https://exalumnos.itam.mx',\n",
       " 'https://exitam.itam.mx',\n",
       " 'https://exitam.itam.mx/exitam_login.php?sid',\n",
       " 'https://goo.gl/maps/9ohrMynLKiB2',\n",
       " 'https://goo.gl/maps/rjvwXDW3usB2',\n",
       " 'https://industrial.itam.mx',\n",
       " 'https://ingnegocios.itam.mx',\n",
       " 'https://itam.mx/es/noticia/lanzamiento-linea-origen-itam',\n",
       " 'https://matematicas.itam.mx',\n",
       " 'https://merlin2.itam.mx/RegistroAdmisiones/avisoPrivacidadSolAdm.jsp',\n",
       " 'https://merlin2.itam.mx/RegistroAdmisionesPosg/avisoPrivacidadSolAdmPosg.jsp',\n",
       " 'https://mundoitam.wordpress.com/',\n",
       " 'https://politica.itam.mx',\n",
       " 'https://posgrados.itam.mx/',\n",
       " 'https://protocologenero.itam.mx/es',\n",
       " 'https://relacionesinternacionales.itam.mx',\n",
       " 'https://reportesalud.itam.mx/',\n",
       " 'https://tienda.itam.mx',\n",
       " 'https://twitter.com/itam_mx?lang=es',\n",
       " 'https://wa.me/5215554143597',\n",
       " 'https://www.facebook.com/itam.mx/',\n",
       " 'https://www.instagram.com/itam_mx/',\n",
       " 'https://www.itam.mx/en',\n",
       " 'https://www.itam.mx/en/1/pages/coordinating-board',\n",
       " 'https://www.itam.mx/en/node/80',\n",
       " 'https://www.itam.mx/es',\n",
       " 'https://www.itam.mx/es/comunicados-oficiales',\n",
       " 'https://www.itam.mx/es/division-academica-de-ciencias-de-la-computacion-0',\n",
       " 'https://www.itam.mx/es/documentos/Ayuda%20Financiera.pdf',\n",
       " 'https://www.itam.mx/es/documentos/publicaciones.pdf',\n",
       " 'https://www.itam.mx/es/noticia/diana-rosales-exalumna-del-itam-es-nombrada-directora-legal-mergers-and-acquisitions-de',\n",
       " 'https://www.itam.mx/es/noticia/el-itam-abre-sus-puertas-la-nueva-licenciatura-en-direccion-de-mercadotecnia',\n",
       " 'https://www.itam.mx/es/noticia/la-maestria-en-economia-aplicada-anuncia-los-ganadores-del-premio-pedro-aspe-2023',\n",
       " 'https://www.itam.mx/es/noticia/victor-tubilla-rodriguez-exalumno-del-itam-gana-el-primer-lugar-del-concurso-nacional-de',\n",
       " 'https://www.itam.mx/pdf/DECLARACION-DE-PRINCIPIOS-ITAM.pdf',\n",
       " 'https://www.itam.mx/pdf/code-of-honor-itam.pdf',\n",
       " 'https://www.itam.mx/sites/default/files/publicaciones-facultad.pdf',\n",
       " 'https://www.itam.mx/sites/www.itam.mx/files/dof-27082018-pub-estatutogenralitam.pdf',\n",
       " 'https://www.linkedin.com/school/15249288?pathWildcard=15249288',\n",
       " 'https://www.youtube.com/itam',\n",
       " 'https://www.youtube.com/user/itam',\n",
       " 'tel:00525556284000',\n",
       " 'tel:011525556284000',\n",
       " 'tel:5556284000',\n",
       " 'tel:8000004826'}"
      ]
     },
     "execution_count": 30,
     "metadata": {},
     "output_type": "execute_result"
    }
   ],
   "source": [
    "r.html.links"
   ]
  },
  {
   "cell_type": "markdown",
   "metadata": {},
   "source": [
    "<h1 style=\"color:#872325\">Webscrapping</h1>"
   ]
  },
  {
   "cell_type": "markdown",
   "metadata": {},
   "source": [
    "<h2 style=\"color:teal\">Ejemplo: Arxiv ML Papers (I)</h2>\n",
    "\n",
    "Consigue el nombre y el link de los último 25 papers en Machine Learning publicados en Arxiv y guárdalos dentro de un archivo `csv`."
   ]
  },
  {
   "cell_type": "code",
   "execution_count": 31,
   "metadata": {},
   "outputs": [],
   "source": [
    "from requests_html import HTMLSession\n",
    "import pandas as pd"
   ]
  },
  {
   "cell_type": "code",
   "execution_count": 32,
   "metadata": {},
   "outputs": [
    {
     "data": {
      "text/plain": [
       "<Response [200]>"
      ]
     },
     "execution_count": 32,
     "metadata": {},
     "output_type": "execute_result"
    }
   ],
   "source": [
    "url = \"https://arxiv.org/list/stat.ML/recent\"\n",
    "with HTMLSession() as sess:\n",
    "    r = sess.get(url)\n",
    "r"
   ]
  },
  {
   "cell_type": "code",
   "execution_count": 33,
   "metadata": {},
   "outputs": [],
   "source": [
    "divpage = r.html.find(\"div[id='dlpage']\", first=True)"
   ]
  },
  {
   "cell_type": "code",
   "execution_count": 34,
   "metadata": {},
   "outputs": [
    {
     "data": {
      "text/plain": [
       "<Element 'div' id='dlpage'>"
      ]
     },
     "execution_count": 34,
     "metadata": {},
     "output_type": "execute_result"
    }
   ],
   "source": [
    "divpage"
   ]
  },
  {
   "cell_type": "code",
   "execution_count": 35,
   "metadata": {},
   "outputs": [
    {
     "data": {
      "text/plain": [
       "'Machine Learning'"
      ]
     },
     "execution_count": 35,
     "metadata": {},
     "output_type": "execute_result"
    }
   ],
   "source": [
    "divpage.find(\"h1\", first=True).text"
   ]
  },
  {
   "cell_type": "code",
   "execution_count": 36,
   "metadata": {},
   "outputs": [
    {
     "data": {
      "text/plain": [
       "25"
      ]
     },
     "execution_count": 36,
     "metadata": {},
     "output_type": "execute_result"
    }
   ],
   "source": [
    "papers_links = divpage.find(\"dt\")\n",
    "len(papers_links)"
   ]
  },
  {
   "cell_type": "code",
   "execution_count": 37,
   "metadata": {},
   "outputs": [
    {
     "data": {
      "text/plain": [
       "25"
      ]
     },
     "execution_count": 37,
     "metadata": {},
     "output_type": "execute_result"
    }
   ],
   "source": [
    "papers_titles = divpage.find(\"dd\")\n",
    "len(papers_titles)"
   ]
  },
  {
   "cell_type": "code",
   "execution_count": 38,
   "metadata": {},
   "outputs": [
    {
     "data": {
      "text/plain": [
       "<HTML url='https://arxiv.org/list/stat.ML/recent'>"
      ]
     },
     "execution_count": 38,
     "metadata": {},
     "output_type": "execute_result"
    }
   ],
   "source": [
    "r.html"
   ]
  },
  {
   "cell_type": "code",
   "execution_count": 39,
   "metadata": {},
   "outputs": [],
   "source": [
    "link_secc=papers_links[1]\n",
    "title_secc=papers_titles[1]\n",
    "\n"
   ]
  },
  {
   "cell_type": "code",
   "execution_count": 40,
   "metadata": {},
   "outputs": [
    {
     "data": {
      "text/plain": [
       "[<Element 'dt' >,\n",
       " <Element 'dt' >,\n",
       " <Element 'dt' >,\n",
       " <Element 'dt' >,\n",
       " <Element 'dt' >,\n",
       " <Element 'dt' >,\n",
       " <Element 'dt' >,\n",
       " <Element 'dt' >,\n",
       " <Element 'dt' >,\n",
       " <Element 'dt' >,\n",
       " <Element 'dt' >,\n",
       " <Element 'dt' >,\n",
       " <Element 'dt' >,\n",
       " <Element 'dt' >,\n",
       " <Element 'dt' >,\n",
       " <Element 'dt' >,\n",
       " <Element 'dt' >,\n",
       " <Element 'dt' >,\n",
       " <Element 'dt' >,\n",
       " <Element 'dt' >,\n",
       " <Element 'dt' >,\n",
       " <Element 'dt' >,\n",
       " <Element 'dt' >,\n",
       " <Element 'dt' >,\n",
       " <Element 'dt' >]"
      ]
     },
     "execution_count": 40,
     "metadata": {},
     "output_type": "execute_result"
    }
   ],
   "source": [
    "papers_links"
   ]
  },
  {
   "cell_type": "code",
   "execution_count": 41,
   "metadata": {},
   "outputs": [
    {
     "data": {
      "text/plain": [
       "[<Element 'dd' >,\n",
       " <Element 'dd' >,\n",
       " <Element 'dd' >,\n",
       " <Element 'dd' >,\n",
       " <Element 'dd' >,\n",
       " <Element 'dd' >,\n",
       " <Element 'dd' >,\n",
       " <Element 'dd' >,\n",
       " <Element 'dd' >,\n",
       " <Element 'dd' >,\n",
       " <Element 'dd' >,\n",
       " <Element 'dd' >,\n",
       " <Element 'dd' >,\n",
       " <Element 'dd' >,\n",
       " <Element 'dd' >,\n",
       " <Element 'dd' >,\n",
       " <Element 'dd' >,\n",
       " <Element 'dd' >,\n",
       " <Element 'dd' >,\n",
       " <Element 'dd' >,\n",
       " <Element 'dd' >,\n",
       " <Element 'dd' >,\n",
       " <Element 'dd' >,\n",
       " <Element 'dd' >,\n",
       " <Element 'dd' >]"
      ]
     },
     "execution_count": 41,
     "metadata": {},
     "output_type": "execute_result"
    }
   ],
   "source": [
    "papers_titles"
   ]
  },
  {
   "cell_type": "code",
   "execution_count": 42,
   "metadata": {},
   "outputs": [
    {
     "data": {
      "text/plain": [
       "'Title: Rate-Optimal Rank Aggregation with Private Pairwise Rankings'"
      ]
     },
     "execution_count": 42,
     "metadata": {},
     "output_type": "execute_result"
    }
   ],
   "source": [
    "title = title_secc.find(\"div[class='list-title mathjax']\", first=True).text\n",
    "title"
   ]
  },
  {
   "cell_type": "code",
   "execution_count": 43,
   "metadata": {},
   "outputs": [
    {
     "data": {
      "text/plain": [
       "{'https://arxiv.org/abs/2402.16792'}"
      ]
     },
     "execution_count": 43,
     "metadata": {},
     "output_type": "execute_result"
    }
   ],
   "source": [
    "abstract_url = link_secc.find(\"a[title='Abstract']\", first=True).absolute_links\n",
    "abstract_url"
   ]
  },
  {
   "cell_type": "code",
   "execution_count": 44,
   "metadata": {},
   "outputs": [
    {
     "data": {
      "text/plain": [
       "'https://arxiv.org/abs/2402.16792'"
      ]
     },
     "execution_count": 44,
     "metadata": {},
     "output_type": "execute_result"
    }
   ],
   "source": [
    "abstract_url, *_ = abstract_url\n",
    "abstract_url"
   ]
  },
  {
   "cell_type": "code",
   "execution_count": 45,
   "metadata": {},
   "outputs": [],
   "source": [
    "values = []\n",
    "for link_secc, title_secc in zip(papers_links, papers_titles):\n",
    "    title = title_secc.find(\"div[class='list-title mathjax']\", first=True).text\n",
    "    \n",
    "    abstract_url = link_secc.find(\"a[title='Abstract']\", first=True).absolute_links\n",
    "    abstract_url, *_ = abstract_url\n",
    "    \n",
    "    values.append([title, abstract_url])"
   ]
  },
  {
   "cell_type": "code",
   "execution_count": 46,
   "metadata": {
    "scrolled": true
   },
   "outputs": [
    {
     "data": {
      "text/html": [
       "<div>\n",
       "<style scoped>\n",
       "    .dataframe tbody tr th:only-of-type {\n",
       "        vertical-align: middle;\n",
       "    }\n",
       "\n",
       "    .dataframe tbody tr th {\n",
       "        vertical-align: top;\n",
       "    }\n",
       "\n",
       "    .dataframe thead th {\n",
       "        text-align: right;\n",
       "    }\n",
       "</style>\n",
       "<table border=\"1\" class=\"dataframe\">\n",
       "  <thead>\n",
       "    <tr style=\"text-align: right;\">\n",
       "      <th></th>\n",
       "      <th>title</th>\n",
       "      <th>url</th>\n",
       "    </tr>\n",
       "  </thead>\n",
       "  <tbody>\n",
       "    <tr>\n",
       "      <th>0</th>\n",
       "      <td>Title: Stopping Bayesian Optimization with Pro...</td>\n",
       "      <td>https://arxiv.org/abs/2402.16811</td>\n",
       "    </tr>\n",
       "    <tr>\n",
       "      <th>1</th>\n",
       "      <td>Title: Rate-Optimal Rank Aggregation with Priv...</td>\n",
       "      <td>https://arxiv.org/abs/2402.16792</td>\n",
       "    </tr>\n",
       "    <tr>\n",
       "      <th>2</th>\n",
       "      <td>Title: Scalable Robust Sparse Principal Compon...</td>\n",
       "      <td>https://arxiv.org/abs/2402.16712</td>\n",
       "    </tr>\n",
       "    <tr>\n",
       "      <th>3</th>\n",
       "      <td>Title: On the connection between Noise-Contras...</td>\n",
       "      <td>https://arxiv.org/abs/2402.16688</td>\n",
       "    </tr>\n",
       "    <tr>\n",
       "      <th>4</th>\n",
       "      <td>Title: Penalized Generative Variable Selection</td>\n",
       "      <td>https://arxiv.org/abs/2402.16661</td>\n",
       "    </tr>\n",
       "  </tbody>\n",
       "</table>\n",
       "</div>"
      ],
      "text/plain": [
       "                                               title  \\\n",
       "0  Title: Stopping Bayesian Optimization with Pro...   \n",
       "1  Title: Rate-Optimal Rank Aggregation with Priv...   \n",
       "2  Title: Scalable Robust Sparse Principal Compon...   \n",
       "3  Title: On the connection between Noise-Contras...   \n",
       "4     Title: Penalized Generative Variable Selection   \n",
       "\n",
       "                                url  \n",
       "0  https://arxiv.org/abs/2402.16811  \n",
       "1  https://arxiv.org/abs/2402.16792  \n",
       "2  https://arxiv.org/abs/2402.16712  \n",
       "3  https://arxiv.org/abs/2402.16688  \n",
       "4  https://arxiv.org/abs/2402.16661  "
      ]
     },
     "execution_count": 46,
     "metadata": {},
     "output_type": "execute_result"
    }
   ],
   "source": [
    "df_values = pd.DataFrame(values, columns=[\"title\", \"url\"])\n",
    "df_values.head()"
   ]
  },
  {
   "cell_type": "code",
   "execution_count": 48,
   "metadata": {},
   "outputs": [
    {
     "data": {
      "text/html": [
       "<div>\n",
       "<style scoped>\n",
       "    .dataframe tbody tr th:only-of-type {\n",
       "        vertical-align: middle;\n",
       "    }\n",
       "\n",
       "    .dataframe tbody tr th {\n",
       "        vertical-align: top;\n",
       "    }\n",
       "\n",
       "    .dataframe thead th {\n",
       "        text-align: right;\n",
       "    }\n",
       "</style>\n",
       "<table border=\"1\" class=\"dataframe\">\n",
       "  <thead>\n",
       "    <tr style=\"text-align: right;\">\n",
       "      <th></th>\n",
       "      <th>title</th>\n",
       "      <th>url</th>\n",
       "    </tr>\n",
       "  </thead>\n",
       "  <tbody>\n",
       "    <tr>\n",
       "      <th>0</th>\n",
       "      <td>Stopping Bayesian Optimization with Probabilis...</td>\n",
       "      <td>https://arxiv.org/abs/2402.16811</td>\n",
       "    </tr>\n",
       "    <tr>\n",
       "      <th>1</th>\n",
       "      <td>Rate-Optimal Rank Aggregation with Private Pai...</td>\n",
       "      <td>https://arxiv.org/abs/2402.16792</td>\n",
       "    </tr>\n",
       "    <tr>\n",
       "      <th>2</th>\n",
       "      <td>Scalable Robust Sparse Principal Component Ana...</td>\n",
       "      <td>https://arxiv.org/abs/2402.16712</td>\n",
       "    </tr>\n",
       "    <tr>\n",
       "      <th>3</th>\n",
       "      <td>On the connection between Noise-Contrastive Es...</td>\n",
       "      <td>https://arxiv.org/abs/2402.16688</td>\n",
       "    </tr>\n",
       "    <tr>\n",
       "      <th>4</th>\n",
       "      <td>Penalized Generative Variable Selection</td>\n",
       "      <td>https://arxiv.org/abs/2402.16661</td>\n",
       "    </tr>\n",
       "  </tbody>\n",
       "</table>\n",
       "</div>"
      ],
      "text/plain": [
       "                                               title  \\\n",
       "0  Stopping Bayesian Optimization with Probabilis...   \n",
       "1  Rate-Optimal Rank Aggregation with Private Pai...   \n",
       "2  Scalable Robust Sparse Principal Component Ana...   \n",
       "3  On the connection between Noise-Contrastive Es...   \n",
       "4            Penalized Generative Variable Selection   \n",
       "\n",
       "                                url  \n",
       "0  https://arxiv.org/abs/2402.16811  \n",
       "1  https://arxiv.org/abs/2402.16792  \n",
       "2  https://arxiv.org/abs/2402.16712  \n",
       "3  https://arxiv.org/abs/2402.16688  \n",
       "4  https://arxiv.org/abs/2402.16661  "
      ]
     },
     "execution_count": 48,
     "metadata": {},
     "output_type": "execute_result"
    }
   ],
   "source": [
    "# Depuramos la información que no necesitamos (palabra title)\n",
    "df_values = df_values.assign(title=df_values.title.str.lstrip(\"Title: \")) \n",
    "df_values.head()"
   ]
  },
  {
   "cell_type": "code",
   "execution_count": 49,
   "metadata": {},
   "outputs": [],
   "source": [
    "# df_values.to_csv(\"ML-arxiv.csv\", index=False)"
   ]
  },
  {
   "cell_type": "markdown",
   "metadata": {},
   "source": [
    "## Queries al sistema\n",
    "\n",
    "En ocasiones un *GET method* puede venir acompañado con parámetros obligatorios u opcionales para el sistema.\n",
    "\n",
    "* Se denota una sección de parámetros de consulta por medio de `?`.\n",
    "* cada par parametro-valor se denota `param=val`\n",
    "* se separa cada query por medio de `&`\n",
    "\n",
    "```\n",
    "http://some-page.com?key1=val1&key2=val2&..&keyn=valn\n",
    "```"
   ]
  },
  {
   "cell_type": "code",
   "execution_count": 50,
   "metadata": {},
   "outputs": [
    {
     "data": {
      "text/plain": [
       "<Response [200]>"
      ]
     },
     "execution_count": 50,
     "metadata": {},
     "output_type": "execute_result"
    }
   ],
   "source": [
    "url = \"https://arxiv.org/list/stat.ML/recent?show=250\"\n",
    "with HTMLSession() as sess:\n",
    "    r = sess.get(url)\n",
    "r"
   ]
  },
  {
   "cell_type": "code",
   "execution_count": 51,
   "metadata": {},
   "outputs": [
    {
     "data": {
      "text/plain": [
       "145"
      ]
     },
     "execution_count": 51,
     "metadata": {},
     "output_type": "execute_result"
    }
   ],
   "source": [
    "papers_titles = r.html.find(\"div[id='dlpage']\", first=True).find(\"dd\")\n",
    "len(papers_titles)"
   ]
  },
  {
   "cell_type": "markdown",
   "metadata": {},
   "source": [
    "### Una manera más limpia de mandar queries"
   ]
  },
  {
   "cell_type": "code",
   "execution_count": 52,
   "metadata": {},
   "outputs": [
    {
     "data": {
      "text/plain": [
       "<Response [200]>"
      ]
     },
     "execution_count": 52,
     "metadata": {},
     "output_type": "execute_result"
    }
   ],
   "source": [
    "# Tambien se puede hacer con diccionarios. \n",
    "\n",
    "url = \"https://arxiv.org/list/stat.ML/recent\"\n",
    "data = {\n",
    "    \"show\": 100\n",
    "}\n",
    "with HTMLSession() as sess:\n",
    "    r = sess.get(url, params=data)\n",
    "r"
   ]
  },
  {
   "cell_type": "code",
   "execution_count": 53,
   "metadata": {},
   "outputs": [
    {
     "data": {
      "text/plain": [
       "{'show': 100}"
      ]
     },
     "execution_count": 53,
     "metadata": {},
     "output_type": "execute_result"
    }
   ],
   "source": [
    "data"
   ]
  },
  {
   "cell_type": "code",
   "execution_count": 54,
   "metadata": {},
   "outputs": [
    {
     "data": {
      "text/plain": [
       "100"
      ]
     },
     "execution_count": 54,
     "metadata": {},
     "output_type": "execute_result"
    }
   ],
   "source": [
    "papers_titles = r.html.find(\"div[id='dlpage']\", first=True).find(\"dd\")\n",
    "len(papers_titles)"
   ]
  },
  {
   "cell_type": "markdown",
   "metadata": {},
   "source": [
    "<h1 style=\"color:#872325\">APIs</h1>\n",
    "\n",
    "En ocasiones no es necesario acceder a un HTML a fin de obtener la información deseada de una página web. \n",
    "\n",
    "Un API (*Application programming interface*),\n",
    "> es un protocolo de comunicación entre un cliente y un servidor diseñado para simplificar la creación aplicaciónes por parte del cliente. [...] Un API está diseñado de tal manera que si el cliente hace una petición al sistema en un formato específico, siempre tendrá el mismo formato de respuesta por parte del servidor, o iniciará una acción definida."
   ]
  },
  {
   "cell_type": "markdown",
   "metadata": {},
   "source": [
    "En esta sección ocuparemos el API de [Alpha Vantage](https://www.alphavantage.co), un proveedor de información histórica y tiempo real de datos de acciones, FX y criptomonedas."
   ]
  },
  {
   "cell_type": "markdown",
   "metadata": {},
   "source": [
    "<h2 style=\"color:teal\">Ejemplo: Alpha Vantage</h2>"
   ]
  },
  {
   "cell_type": "markdown",
   "metadata": {},
   "source": [
    "A fin de hacer mejor uso de un API es importante siempre revisar la documentación del API."
   ]
  },
  {
   "cell_type": "code",
   "execution_count": 55,
   "metadata": {},
   "outputs": [],
   "source": [
    "import os\n",
    "import requests\n",
    "import pandas as pd\n",
    "import matplotlib.pyplot as plt"
   ]
  },
  {
   "cell_type": "code",
   "execution_count": 56,
   "metadata": {},
   "outputs": [],
   "source": [
    "%config InlineBackend.figure_format = \"retina\""
   ]
  },
  {
   "cell_type": "code",
   "execution_count": 57,
   "metadata": {},
   "outputs": [],
   "source": [
    "#$ API_TOKEN=60MP74RUOD4MUHKI python script.py"
   ]
  },
  {
   "cell_type": "code",
   "execution_count": 58,
   "metadata": {},
   "outputs": [],
   "source": [
    "#!touch .env"
   ]
  },
  {
   "cell_type": "code",
   "execution_count": 59,
   "metadata": {},
   "outputs": [],
   "source": [
    "os.environ['ALPHA_VANTAGE_KEY']='60MP74RUOD4MUHKI'"
   ]
  },
  {
   "cell_type": "code",
   "execution_count": 60,
   "metadata": {},
   "outputs": [],
   "source": [
    "avkey=os.environ['ALPHA_VANTAGE_KEY']"
   ]
  },
  {
   "cell_type": "code",
   "execution_count": null,
   "metadata": {},
   "outputs": [],
   "source": []
  },
  {
   "cell_type": "code",
   "execution_count": 61,
   "metadata": {},
   "outputs": [],
   "source": [
    "url = \"https://www.alphavantage.co\"\n",
    "base_url = \"https://www.alphavantage.co/query\"\n",
    "# Cargamos el API Key de Alpha Vantage (es personal)\n",
    "#avkey = os.environ[\"ALPHA_VANTAGE_KEY\"]\n",
    "#set ALPHA_VANTAGE_KEY={{60MP74RUOD4MUHKI}}\n",
    "#avkey = os.environ['60MP74RUOD4MUHKI']\n",
    "#60MP74RUOD4MUHKI"
   ]
  },
  {
   "cell_type": "code",
   "execution_count": 62,
   "metadata": {},
   "outputs": [
    {
     "ename": "HTTPError",
     "evalue": "HTTP Error 403: Forbidden",
     "output_type": "error",
     "traceback": [
      "\u001b[0;31m---------------------------------------------------------------------------\u001b[0m",
      "\u001b[0;31mHTTPError\u001b[0m                                 Traceback (most recent call last)",
      "Cell \u001b[0;32mIn[62], line 2\u001b[0m\n\u001b[1;32m      1\u001b[0m curr_list_url \u001b[38;5;241m=\u001b[39m \u001b[38;5;124m\"\u001b[39m\u001b[38;5;124mhttps://www.alphavantage.co/physical_currency_list/\u001b[39m\u001b[38;5;124m\"\u001b[39m\n\u001b[0;32m----> 2\u001b[0m curr_list \u001b[38;5;241m=\u001b[39m pd\u001b[38;5;241m.\u001b[39mread_csv(curr_list_url)\u001b[38;5;241m.\u001b[39mset_index(\u001b[38;5;124m\"\u001b[39m\u001b[38;5;124mcurrency name\u001b[39m\u001b[38;5;124m\"\u001b[39m)\n\u001b[1;32m      3\u001b[0m curr_list\u001b[38;5;241m.\u001b[39mhead()\n",
      "File \u001b[0;32m~/anaconda3/envs/Diplomado_DataScience/lib/python3.11/site-packages/pandas/io/parsers/readers.py:948\u001b[0m, in \u001b[0;36mread_csv\u001b[0;34m(filepath_or_buffer, sep, delimiter, header, names, index_col, usecols, dtype, engine, converters, true_values, false_values, skipinitialspace, skiprows, skipfooter, nrows, na_values, keep_default_na, na_filter, verbose, skip_blank_lines, parse_dates, infer_datetime_format, keep_date_col, date_parser, date_format, dayfirst, cache_dates, iterator, chunksize, compression, thousands, decimal, lineterminator, quotechar, quoting, doublequote, escapechar, comment, encoding, encoding_errors, dialect, on_bad_lines, delim_whitespace, low_memory, memory_map, float_precision, storage_options, dtype_backend)\u001b[0m\n\u001b[1;32m    935\u001b[0m kwds_defaults \u001b[38;5;241m=\u001b[39m _refine_defaults_read(\n\u001b[1;32m    936\u001b[0m     dialect,\n\u001b[1;32m    937\u001b[0m     delimiter,\n\u001b[0;32m   (...)\u001b[0m\n\u001b[1;32m    944\u001b[0m     dtype_backend\u001b[38;5;241m=\u001b[39mdtype_backend,\n\u001b[1;32m    945\u001b[0m )\n\u001b[1;32m    946\u001b[0m kwds\u001b[38;5;241m.\u001b[39mupdate(kwds_defaults)\n\u001b[0;32m--> 948\u001b[0m \u001b[38;5;28;01mreturn\u001b[39;00m _read(filepath_or_buffer, kwds)\n",
      "File \u001b[0;32m~/anaconda3/envs/Diplomado_DataScience/lib/python3.11/site-packages/pandas/io/parsers/readers.py:611\u001b[0m, in \u001b[0;36m_read\u001b[0;34m(filepath_or_buffer, kwds)\u001b[0m\n\u001b[1;32m    608\u001b[0m _validate_names(kwds\u001b[38;5;241m.\u001b[39mget(\u001b[38;5;124m\"\u001b[39m\u001b[38;5;124mnames\u001b[39m\u001b[38;5;124m\"\u001b[39m, \u001b[38;5;28;01mNone\u001b[39;00m))\n\u001b[1;32m    610\u001b[0m \u001b[38;5;66;03m# Create the parser.\u001b[39;00m\n\u001b[0;32m--> 611\u001b[0m parser \u001b[38;5;241m=\u001b[39m TextFileReader(filepath_or_buffer, \u001b[38;5;241m*\u001b[39m\u001b[38;5;241m*\u001b[39mkwds)\n\u001b[1;32m    613\u001b[0m \u001b[38;5;28;01mif\u001b[39;00m chunksize \u001b[38;5;129;01mor\u001b[39;00m iterator:\n\u001b[1;32m    614\u001b[0m     \u001b[38;5;28;01mreturn\u001b[39;00m parser\n",
      "File \u001b[0;32m~/anaconda3/envs/Diplomado_DataScience/lib/python3.11/site-packages/pandas/io/parsers/readers.py:1448\u001b[0m, in \u001b[0;36mTextFileReader.__init__\u001b[0;34m(self, f, engine, **kwds)\u001b[0m\n\u001b[1;32m   1445\u001b[0m     \u001b[38;5;28mself\u001b[39m\u001b[38;5;241m.\u001b[39moptions[\u001b[38;5;124m\"\u001b[39m\u001b[38;5;124mhas_index_names\u001b[39m\u001b[38;5;124m\"\u001b[39m] \u001b[38;5;241m=\u001b[39m kwds[\u001b[38;5;124m\"\u001b[39m\u001b[38;5;124mhas_index_names\u001b[39m\u001b[38;5;124m\"\u001b[39m]\n\u001b[1;32m   1447\u001b[0m \u001b[38;5;28mself\u001b[39m\u001b[38;5;241m.\u001b[39mhandles: IOHandles \u001b[38;5;241m|\u001b[39m \u001b[38;5;28;01mNone\u001b[39;00m \u001b[38;5;241m=\u001b[39m \u001b[38;5;28;01mNone\u001b[39;00m\n\u001b[0;32m-> 1448\u001b[0m \u001b[38;5;28mself\u001b[39m\u001b[38;5;241m.\u001b[39m_engine \u001b[38;5;241m=\u001b[39m \u001b[38;5;28mself\u001b[39m\u001b[38;5;241m.\u001b[39m_make_engine(f, \u001b[38;5;28mself\u001b[39m\u001b[38;5;241m.\u001b[39mengine)\n",
      "File \u001b[0;32m~/anaconda3/envs/Diplomado_DataScience/lib/python3.11/site-packages/pandas/io/parsers/readers.py:1705\u001b[0m, in \u001b[0;36mTextFileReader._make_engine\u001b[0;34m(self, f, engine)\u001b[0m\n\u001b[1;32m   1703\u001b[0m     \u001b[38;5;28;01mif\u001b[39;00m \u001b[38;5;124m\"\u001b[39m\u001b[38;5;124mb\u001b[39m\u001b[38;5;124m\"\u001b[39m \u001b[38;5;129;01mnot\u001b[39;00m \u001b[38;5;129;01min\u001b[39;00m mode:\n\u001b[1;32m   1704\u001b[0m         mode \u001b[38;5;241m+\u001b[39m\u001b[38;5;241m=\u001b[39m \u001b[38;5;124m\"\u001b[39m\u001b[38;5;124mb\u001b[39m\u001b[38;5;124m\"\u001b[39m\n\u001b[0;32m-> 1705\u001b[0m \u001b[38;5;28mself\u001b[39m\u001b[38;5;241m.\u001b[39mhandles \u001b[38;5;241m=\u001b[39m get_handle(\n\u001b[1;32m   1706\u001b[0m     f,\n\u001b[1;32m   1707\u001b[0m     mode,\n\u001b[1;32m   1708\u001b[0m     encoding\u001b[38;5;241m=\u001b[39m\u001b[38;5;28mself\u001b[39m\u001b[38;5;241m.\u001b[39moptions\u001b[38;5;241m.\u001b[39mget(\u001b[38;5;124m\"\u001b[39m\u001b[38;5;124mencoding\u001b[39m\u001b[38;5;124m\"\u001b[39m, \u001b[38;5;28;01mNone\u001b[39;00m),\n\u001b[1;32m   1709\u001b[0m     compression\u001b[38;5;241m=\u001b[39m\u001b[38;5;28mself\u001b[39m\u001b[38;5;241m.\u001b[39moptions\u001b[38;5;241m.\u001b[39mget(\u001b[38;5;124m\"\u001b[39m\u001b[38;5;124mcompression\u001b[39m\u001b[38;5;124m\"\u001b[39m, \u001b[38;5;28;01mNone\u001b[39;00m),\n\u001b[1;32m   1710\u001b[0m     memory_map\u001b[38;5;241m=\u001b[39m\u001b[38;5;28mself\u001b[39m\u001b[38;5;241m.\u001b[39moptions\u001b[38;5;241m.\u001b[39mget(\u001b[38;5;124m\"\u001b[39m\u001b[38;5;124mmemory_map\u001b[39m\u001b[38;5;124m\"\u001b[39m, \u001b[38;5;28;01mFalse\u001b[39;00m),\n\u001b[1;32m   1711\u001b[0m     is_text\u001b[38;5;241m=\u001b[39mis_text,\n\u001b[1;32m   1712\u001b[0m     errors\u001b[38;5;241m=\u001b[39m\u001b[38;5;28mself\u001b[39m\u001b[38;5;241m.\u001b[39moptions\u001b[38;5;241m.\u001b[39mget(\u001b[38;5;124m\"\u001b[39m\u001b[38;5;124mencoding_errors\u001b[39m\u001b[38;5;124m\"\u001b[39m, \u001b[38;5;124m\"\u001b[39m\u001b[38;5;124mstrict\u001b[39m\u001b[38;5;124m\"\u001b[39m),\n\u001b[1;32m   1713\u001b[0m     storage_options\u001b[38;5;241m=\u001b[39m\u001b[38;5;28mself\u001b[39m\u001b[38;5;241m.\u001b[39moptions\u001b[38;5;241m.\u001b[39mget(\u001b[38;5;124m\"\u001b[39m\u001b[38;5;124mstorage_options\u001b[39m\u001b[38;5;124m\"\u001b[39m, \u001b[38;5;28;01mNone\u001b[39;00m),\n\u001b[1;32m   1714\u001b[0m )\n\u001b[1;32m   1715\u001b[0m \u001b[38;5;28;01massert\u001b[39;00m \u001b[38;5;28mself\u001b[39m\u001b[38;5;241m.\u001b[39mhandles \u001b[38;5;129;01mis\u001b[39;00m \u001b[38;5;129;01mnot\u001b[39;00m \u001b[38;5;28;01mNone\u001b[39;00m\n\u001b[1;32m   1716\u001b[0m f \u001b[38;5;241m=\u001b[39m \u001b[38;5;28mself\u001b[39m\u001b[38;5;241m.\u001b[39mhandles\u001b[38;5;241m.\u001b[39mhandle\n",
      "File \u001b[0;32m~/anaconda3/envs/Diplomado_DataScience/lib/python3.11/site-packages/pandas/io/common.py:718\u001b[0m, in \u001b[0;36mget_handle\u001b[0;34m(path_or_buf, mode, encoding, compression, memory_map, is_text, errors, storage_options)\u001b[0m\n\u001b[1;32m    715\u001b[0m     codecs\u001b[38;5;241m.\u001b[39mlookup_error(errors)\n\u001b[1;32m    717\u001b[0m \u001b[38;5;66;03m# open URLs\u001b[39;00m\n\u001b[0;32m--> 718\u001b[0m ioargs \u001b[38;5;241m=\u001b[39m _get_filepath_or_buffer(\n\u001b[1;32m    719\u001b[0m     path_or_buf,\n\u001b[1;32m    720\u001b[0m     encoding\u001b[38;5;241m=\u001b[39mencoding,\n\u001b[1;32m    721\u001b[0m     compression\u001b[38;5;241m=\u001b[39mcompression,\n\u001b[1;32m    722\u001b[0m     mode\u001b[38;5;241m=\u001b[39mmode,\n\u001b[1;32m    723\u001b[0m     storage_options\u001b[38;5;241m=\u001b[39mstorage_options,\n\u001b[1;32m    724\u001b[0m )\n\u001b[1;32m    726\u001b[0m handle \u001b[38;5;241m=\u001b[39m ioargs\u001b[38;5;241m.\u001b[39mfilepath_or_buffer\n\u001b[1;32m    727\u001b[0m handles: \u001b[38;5;28mlist\u001b[39m[BaseBuffer]\n",
      "File \u001b[0;32m~/anaconda3/envs/Diplomado_DataScience/lib/python3.11/site-packages/pandas/io/common.py:372\u001b[0m, in \u001b[0;36m_get_filepath_or_buffer\u001b[0;34m(filepath_or_buffer, encoding, compression, mode, storage_options)\u001b[0m\n\u001b[1;32m    370\u001b[0m \u001b[38;5;66;03m# assuming storage_options is to be interpreted as headers\u001b[39;00m\n\u001b[1;32m    371\u001b[0m req_info \u001b[38;5;241m=\u001b[39m urllib\u001b[38;5;241m.\u001b[39mrequest\u001b[38;5;241m.\u001b[39mRequest(filepath_or_buffer, headers\u001b[38;5;241m=\u001b[39mstorage_options)\n\u001b[0;32m--> 372\u001b[0m \u001b[38;5;28;01mwith\u001b[39;00m urlopen(req_info) \u001b[38;5;28;01mas\u001b[39;00m req:\n\u001b[1;32m    373\u001b[0m     content_encoding \u001b[38;5;241m=\u001b[39m req\u001b[38;5;241m.\u001b[39mheaders\u001b[38;5;241m.\u001b[39mget(\u001b[38;5;124m\"\u001b[39m\u001b[38;5;124mContent-Encoding\u001b[39m\u001b[38;5;124m\"\u001b[39m, \u001b[38;5;28;01mNone\u001b[39;00m)\n\u001b[1;32m    374\u001b[0m     \u001b[38;5;28;01mif\u001b[39;00m content_encoding \u001b[38;5;241m==\u001b[39m \u001b[38;5;124m\"\u001b[39m\u001b[38;5;124mgzip\u001b[39m\u001b[38;5;124m\"\u001b[39m:\n\u001b[1;32m    375\u001b[0m         \u001b[38;5;66;03m# Override compression based on Content-Encoding header\u001b[39;00m\n",
      "File \u001b[0;32m~/anaconda3/envs/Diplomado_DataScience/lib/python3.11/site-packages/pandas/io/common.py:274\u001b[0m, in \u001b[0;36murlopen\u001b[0;34m(*args, **kwargs)\u001b[0m\n\u001b[1;32m    268\u001b[0m \u001b[38;5;250m\u001b[39m\u001b[38;5;124;03m\"\"\"\u001b[39;00m\n\u001b[1;32m    269\u001b[0m \u001b[38;5;124;03mLazy-import wrapper for stdlib urlopen, as that imports a big chunk of\u001b[39;00m\n\u001b[1;32m    270\u001b[0m \u001b[38;5;124;03mthe stdlib.\u001b[39;00m\n\u001b[1;32m    271\u001b[0m \u001b[38;5;124;03m\"\"\"\u001b[39;00m\n\u001b[1;32m    272\u001b[0m \u001b[38;5;28;01mimport\u001b[39;00m \u001b[38;5;21;01murllib\u001b[39;00m\u001b[38;5;21;01m.\u001b[39;00m\u001b[38;5;21;01mrequest\u001b[39;00m\n\u001b[0;32m--> 274\u001b[0m \u001b[38;5;28;01mreturn\u001b[39;00m urllib\u001b[38;5;241m.\u001b[39mrequest\u001b[38;5;241m.\u001b[39murlopen(\u001b[38;5;241m*\u001b[39margs, \u001b[38;5;241m*\u001b[39m\u001b[38;5;241m*\u001b[39mkwargs)\n",
      "File \u001b[0;32m~/anaconda3/envs/Diplomado_DataScience/lib/python3.11/urllib/request.py:216\u001b[0m, in \u001b[0;36murlopen\u001b[0;34m(url, data, timeout, cafile, capath, cadefault, context)\u001b[0m\n\u001b[1;32m    214\u001b[0m \u001b[38;5;28;01melse\u001b[39;00m:\n\u001b[1;32m    215\u001b[0m     opener \u001b[38;5;241m=\u001b[39m _opener\n\u001b[0;32m--> 216\u001b[0m \u001b[38;5;28;01mreturn\u001b[39;00m opener\u001b[38;5;241m.\u001b[39mopen(url, data, timeout)\n",
      "File \u001b[0;32m~/anaconda3/envs/Diplomado_DataScience/lib/python3.11/urllib/request.py:525\u001b[0m, in \u001b[0;36mOpenerDirector.open\u001b[0;34m(self, fullurl, data, timeout)\u001b[0m\n\u001b[1;32m    523\u001b[0m \u001b[38;5;28;01mfor\u001b[39;00m processor \u001b[38;5;129;01min\u001b[39;00m \u001b[38;5;28mself\u001b[39m\u001b[38;5;241m.\u001b[39mprocess_response\u001b[38;5;241m.\u001b[39mget(protocol, []):\n\u001b[1;32m    524\u001b[0m     meth \u001b[38;5;241m=\u001b[39m \u001b[38;5;28mgetattr\u001b[39m(processor, meth_name)\n\u001b[0;32m--> 525\u001b[0m     response \u001b[38;5;241m=\u001b[39m meth(req, response)\n\u001b[1;32m    527\u001b[0m \u001b[38;5;28;01mreturn\u001b[39;00m response\n",
      "File \u001b[0;32m~/anaconda3/envs/Diplomado_DataScience/lib/python3.11/urllib/request.py:634\u001b[0m, in \u001b[0;36mHTTPErrorProcessor.http_response\u001b[0;34m(self, request, response)\u001b[0m\n\u001b[1;32m    631\u001b[0m \u001b[38;5;66;03m# According to RFC 2616, \"2xx\" code indicates that the client's\u001b[39;00m\n\u001b[1;32m    632\u001b[0m \u001b[38;5;66;03m# request was successfully received, understood, and accepted.\u001b[39;00m\n\u001b[1;32m    633\u001b[0m \u001b[38;5;28;01mif\u001b[39;00m \u001b[38;5;129;01mnot\u001b[39;00m (\u001b[38;5;241m200\u001b[39m \u001b[38;5;241m<\u001b[39m\u001b[38;5;241m=\u001b[39m code \u001b[38;5;241m<\u001b[39m \u001b[38;5;241m300\u001b[39m):\n\u001b[0;32m--> 634\u001b[0m     response \u001b[38;5;241m=\u001b[39m \u001b[38;5;28mself\u001b[39m\u001b[38;5;241m.\u001b[39mparent\u001b[38;5;241m.\u001b[39merror(\n\u001b[1;32m    635\u001b[0m         \u001b[38;5;124m'\u001b[39m\u001b[38;5;124mhttp\u001b[39m\u001b[38;5;124m'\u001b[39m, request, response, code, msg, hdrs)\n\u001b[1;32m    637\u001b[0m \u001b[38;5;28;01mreturn\u001b[39;00m response\n",
      "File \u001b[0;32m~/anaconda3/envs/Diplomado_DataScience/lib/python3.11/urllib/request.py:563\u001b[0m, in \u001b[0;36mOpenerDirector.error\u001b[0;34m(self, proto, *args)\u001b[0m\n\u001b[1;32m    561\u001b[0m \u001b[38;5;28;01mif\u001b[39;00m http_err:\n\u001b[1;32m    562\u001b[0m     args \u001b[38;5;241m=\u001b[39m (\u001b[38;5;28mdict\u001b[39m, \u001b[38;5;124m'\u001b[39m\u001b[38;5;124mdefault\u001b[39m\u001b[38;5;124m'\u001b[39m, \u001b[38;5;124m'\u001b[39m\u001b[38;5;124mhttp_error_default\u001b[39m\u001b[38;5;124m'\u001b[39m) \u001b[38;5;241m+\u001b[39m orig_args\n\u001b[0;32m--> 563\u001b[0m     \u001b[38;5;28;01mreturn\u001b[39;00m \u001b[38;5;28mself\u001b[39m\u001b[38;5;241m.\u001b[39m_call_chain(\u001b[38;5;241m*\u001b[39margs)\n",
      "File \u001b[0;32m~/anaconda3/envs/Diplomado_DataScience/lib/python3.11/urllib/request.py:496\u001b[0m, in \u001b[0;36mOpenerDirector._call_chain\u001b[0;34m(self, chain, kind, meth_name, *args)\u001b[0m\n\u001b[1;32m    494\u001b[0m \u001b[38;5;28;01mfor\u001b[39;00m handler \u001b[38;5;129;01min\u001b[39;00m handlers:\n\u001b[1;32m    495\u001b[0m     func \u001b[38;5;241m=\u001b[39m \u001b[38;5;28mgetattr\u001b[39m(handler, meth_name)\n\u001b[0;32m--> 496\u001b[0m     result \u001b[38;5;241m=\u001b[39m func(\u001b[38;5;241m*\u001b[39margs)\n\u001b[1;32m    497\u001b[0m     \u001b[38;5;28;01mif\u001b[39;00m result \u001b[38;5;129;01mis\u001b[39;00m \u001b[38;5;129;01mnot\u001b[39;00m \u001b[38;5;28;01mNone\u001b[39;00m:\n\u001b[1;32m    498\u001b[0m         \u001b[38;5;28;01mreturn\u001b[39;00m result\n",
      "File \u001b[0;32m~/anaconda3/envs/Diplomado_DataScience/lib/python3.11/urllib/request.py:643\u001b[0m, in \u001b[0;36mHTTPDefaultErrorHandler.http_error_default\u001b[0;34m(self, req, fp, code, msg, hdrs)\u001b[0m\n\u001b[1;32m    642\u001b[0m \u001b[38;5;28;01mdef\u001b[39;00m \u001b[38;5;21mhttp_error_default\u001b[39m(\u001b[38;5;28mself\u001b[39m, req, fp, code, msg, hdrs):\n\u001b[0;32m--> 643\u001b[0m     \u001b[38;5;28;01mraise\u001b[39;00m HTTPError(req\u001b[38;5;241m.\u001b[39mfull_url, code, msg, hdrs, fp)\n",
      "\u001b[0;31mHTTPError\u001b[0m: HTTP Error 403: Forbidden"
     ]
    }
   ],
   "source": [
    "curr_list_url = \"https://www.alphavantage.co/physical_currency_list/\"\n",
    "curr_list = pd.read_csv(curr_list_url).set_index(\"currency name\")\n",
    "curr_list.head()"
   ]
  },
  {
   "cell_type": "code",
   "execution_count": 1,
   "metadata": {},
   "outputs": [
    {
     "ename": "NameError",
     "evalue": "name 'curr_list' is not defined",
     "output_type": "error",
     "traceback": [
      "\u001b[0;31m---------------------------------------------------------------------------\u001b[0m",
      "\u001b[0;31mNameError\u001b[0m                                 Traceback (most recent call last)",
      "Cell \u001b[0;32mIn[1], line 1\u001b[0m\n\u001b[0;32m----> 1\u001b[0m curr_list\u001b[38;5;241m.\u001b[39mfilter([from_curr])\n\u001b[1;32m      2\u001b[0m curr_list\u001b[38;5;241m.\u001b[39mfilter(like\u001b[38;5;241m=\u001b[39mfrom_curr,axis\u001b[38;5;241m=\u001b[39m\u001b[38;5;241m0\u001b[39m)\n",
      "\u001b[0;31mNameError\u001b[0m: name 'curr_list' is not defined"
     ]
    }
   ],
   "source": [
    "curr_list.filter([from_curr])\n",
    "curr_list.filter(like=from_curr,axis=0)"
   ]
  },
  {
   "cell_type": "code",
   "execution_count": 2,
   "metadata": {},
   "outputs": [
    {
     "ename": "NameError",
     "evalue": "name 'curr_list' is not defined",
     "output_type": "error",
     "traceback": [
      "\u001b[0;31m---------------------------------------------------------------------------\u001b[0m",
      "\u001b[0;31mNameError\u001b[0m                                 Traceback (most recent call last)",
      "Cell \u001b[0;32mIn[2], line 2\u001b[0m\n\u001b[1;32m      1\u001b[0m from_curr \u001b[38;5;241m=\u001b[39m \u001b[38;5;124m\"\u001b[39m\u001b[38;5;124mUnited States Dollar\u001b[39m\u001b[38;5;124m\"\u001b[39m\n\u001b[0;32m----> 2\u001b[0m curr_list\u001b[38;5;241m.\u001b[39mfilter([from_curr], axis\u001b[38;5;241m=\u001b[39m\u001b[38;5;241m0\u001b[39m)\n",
      "\u001b[0;31mNameError\u001b[0m: name 'curr_list' is not defined"
     ]
    }
   ],
   "source": [
    "from_curr = \"United States Dollar\"\n",
    "curr_list.filter([from_curr], axis=0)"
   ]
  },
  {
   "cell_type": "code",
   "execution_count": 88,
   "metadata": {},
   "outputs": [
    {
     "data": {
      "text/html": [
       "<div>\n",
       "<style scoped>\n",
       "    .dataframe tbody tr th:only-of-type {\n",
       "        vertical-align: middle;\n",
       "    }\n",
       "\n",
       "    .dataframe tbody tr th {\n",
       "        vertical-align: top;\n",
       "    }\n",
       "\n",
       "    .dataframe thead th {\n",
       "        text-align: right;\n",
       "    }\n",
       "</style>\n",
       "<table border=\"1\" class=\"dataframe\">\n",
       "  <thead>\n",
       "    <tr style=\"text-align: right;\">\n",
       "      <th></th>\n",
       "      <th>currency code</th>\n",
       "    </tr>\n",
       "    <tr>\n",
       "      <th>currency name</th>\n",
       "      <th></th>\n",
       "    </tr>\n",
       "  </thead>\n",
       "  <tbody>\n",
       "    <tr>\n",
       "      <th>Mexican Peso</th>\n",
       "      <td>MXN</td>\n",
       "    </tr>\n",
       "  </tbody>\n",
       "</table>\n",
       "</div>"
      ],
      "text/plain": [
       "              currency code\n",
       "currency name              \n",
       "Mexican Peso            MXN"
      ]
     },
     "execution_count": 88,
     "metadata": {},
     "output_type": "execute_result"
    }
   ],
   "source": [
    "currencies = \"'Mexican Peso' OR 'Euro' OR 'Brazilian Real' OR 'Argentine Peso'\"\n",
    "currencies\n",
    "target_curr = curr_list.filter(like='Mexican Peso' or 'Euro', axis=0)\n",
    "target_curr"
   ]
  },
  {
   "cell_type": "code",
   "execution_count": 90,
   "metadata": {},
   "outputs": [
    {
     "ename": "SyntaxError",
     "evalue": "keyword can't be an expression (<ipython-input-90-a15c55d2f710>, line 1)",
     "output_type": "error",
     "traceback": [
      "\u001b[0;36m  File \u001b[0;32m\"<ipython-input-90-a15c55d2f710>\"\u001b[0;36m, line \u001b[0;32m1\u001b[0m\n\u001b[0;31m    target_curr = curr_list.filter(curr_list.col1='Mexican Peso', axis=0)\u001b[0m\n\u001b[0m                                  ^\u001b[0m\n\u001b[0;31mSyntaxError\u001b[0m\u001b[0;31m:\u001b[0m keyword can't be an expression\n"
     ]
    }
   ],
   "source": [
    "target_curr = curr_list.filter(curr_list.col1='Mexican Peso', axis=0)"
   ]
  },
  {
   "cell_type": "code",
   "execution_count": 76,
   "metadata": {},
   "outputs": [
    {
     "ename": "TypeError",
     "evalue": "'in <string>' requires string as left operand, not list",
     "output_type": "error",
     "traceback": [
      "\u001b[0;31m---------------------------------------------------------------------------\u001b[0m",
      "\u001b[0;31mTypeError\u001b[0m                                 Traceback (most recent call last)",
      "\u001b[0;32m<ipython-input-76-905aebb4afde>\u001b[0m in \u001b[0;36m<module>\u001b[0;34m\u001b[0m\n\u001b[1;32m      1\u001b[0m \u001b[0mcurrencies\u001b[0m \u001b[0;34m=\u001b[0m \u001b[0;34m[\u001b[0m\u001b[0;34m\"Mexican Peso\"\u001b[0m\u001b[0;34m,\u001b[0m \u001b[0;34m\"Euro\"\u001b[0m\u001b[0;34m,\u001b[0m \u001b[0;34m\"Brazilian Real\"\u001b[0m\u001b[0;34m,\u001b[0m \u001b[0;34m\"Argentine Peso\"\u001b[0m\u001b[0;34m]\u001b[0m\u001b[0;34m\u001b[0m\u001b[0;34m\u001b[0m\u001b[0m\n\u001b[0;32m----> 2\u001b[0;31m \u001b[0mtarget_curr\u001b[0m \u001b[0;34m=\u001b[0m \u001b[0mcurr_list\u001b[0m\u001b[0;34m.\u001b[0m\u001b[0mfilter\u001b[0m\u001b[0;34m(\u001b[0m\u001b[0mlike\u001b[0m\u001b[0;34m=\u001b[0m\u001b[0mcurrencies\u001b[0m\u001b[0;34m,\u001b[0m \u001b[0maxis\u001b[0m\u001b[0;34m=\u001b[0m\u001b[0;36m0\u001b[0m\u001b[0;34m)\u001b[0m\u001b[0;34m\u001b[0m\u001b[0;34m\u001b[0m\u001b[0m\n\u001b[0m\u001b[1;32m      3\u001b[0m \u001b[0mtarget_curr\u001b[0m\u001b[0;34m\u001b[0m\u001b[0;34m\u001b[0m\u001b[0m\n",
      "\u001b[0;32m~/opt/anaconda3/lib/python3.7/site-packages/pandas/core/generic.py\u001b[0m in \u001b[0;36mfilter\u001b[0;34m(self, items, like, regex, axis)\u001b[0m\n\u001b[1;32m   4703\u001b[0m                 \u001b[0;32mreturn\u001b[0m \u001b[0mlike\u001b[0m \u001b[0;32min\u001b[0m \u001b[0mensure_str\u001b[0m\u001b[0;34m(\u001b[0m\u001b[0mx\u001b[0m\u001b[0;34m)\u001b[0m\u001b[0;34m\u001b[0m\u001b[0;34m\u001b[0m\u001b[0m\n\u001b[1;32m   4704\u001b[0m \u001b[0;34m\u001b[0m\u001b[0m\n\u001b[0;32m-> 4705\u001b[0;31m             \u001b[0mvalues\u001b[0m \u001b[0;34m=\u001b[0m \u001b[0mlabels\u001b[0m\u001b[0;34m.\u001b[0m\u001b[0mmap\u001b[0m\u001b[0;34m(\u001b[0m\u001b[0mf\u001b[0m\u001b[0;34m)\u001b[0m\u001b[0;34m\u001b[0m\u001b[0;34m\u001b[0m\u001b[0m\n\u001b[0m\u001b[1;32m   4706\u001b[0m             \u001b[0;32mreturn\u001b[0m \u001b[0mself\u001b[0m\u001b[0;34m.\u001b[0m\u001b[0mloc\u001b[0m\u001b[0;34m(\u001b[0m\u001b[0maxis\u001b[0m\u001b[0;34m=\u001b[0m\u001b[0maxis\u001b[0m\u001b[0;34m)\u001b[0m\u001b[0;34m[\u001b[0m\u001b[0mvalues\u001b[0m\u001b[0;34m]\u001b[0m\u001b[0;34m\u001b[0m\u001b[0;34m\u001b[0m\u001b[0m\n\u001b[1;32m   4707\u001b[0m         \u001b[0;32melif\u001b[0m \u001b[0mregex\u001b[0m\u001b[0;34m:\u001b[0m\u001b[0;34m\u001b[0m\u001b[0;34m\u001b[0m\u001b[0m\n",
      "\u001b[0;32m~/opt/anaconda3/lib/python3.7/site-packages/pandas/core/indexes/base.py\u001b[0m in \u001b[0;36mmap\u001b[0;34m(self, mapper, na_action)\u001b[0m\n\u001b[1;32m   4562\u001b[0m         \u001b[0;32mfrom\u001b[0m \u001b[0mpandas\u001b[0m\u001b[0;34m.\u001b[0m\u001b[0mcore\u001b[0m\u001b[0;34m.\u001b[0m\u001b[0mindexes\u001b[0m\u001b[0;34m.\u001b[0m\u001b[0mmulti\u001b[0m \u001b[0;32mimport\u001b[0m \u001b[0mMultiIndex\u001b[0m\u001b[0;34m\u001b[0m\u001b[0;34m\u001b[0m\u001b[0m\n\u001b[1;32m   4563\u001b[0m \u001b[0;34m\u001b[0m\u001b[0m\n\u001b[0;32m-> 4564\u001b[0;31m         \u001b[0mnew_values\u001b[0m \u001b[0;34m=\u001b[0m \u001b[0msuper\u001b[0m\u001b[0;34m(\u001b[0m\u001b[0;34m)\u001b[0m\u001b[0;34m.\u001b[0m\u001b[0m_map_values\u001b[0m\u001b[0;34m(\u001b[0m\u001b[0mmapper\u001b[0m\u001b[0;34m,\u001b[0m \u001b[0mna_action\u001b[0m\u001b[0;34m=\u001b[0m\u001b[0mna_action\u001b[0m\u001b[0;34m)\u001b[0m\u001b[0;34m\u001b[0m\u001b[0;34m\u001b[0m\u001b[0m\n\u001b[0m\u001b[1;32m   4565\u001b[0m \u001b[0;34m\u001b[0m\u001b[0m\n\u001b[1;32m   4566\u001b[0m         \u001b[0mattributes\u001b[0m \u001b[0;34m=\u001b[0m \u001b[0mself\u001b[0m\u001b[0;34m.\u001b[0m\u001b[0m_get_attributes_dict\u001b[0m\u001b[0;34m(\u001b[0m\u001b[0;34m)\u001b[0m\u001b[0;34m\u001b[0m\u001b[0;34m\u001b[0m\u001b[0m\n",
      "\u001b[0;32m~/opt/anaconda3/lib/python3.7/site-packages/pandas/core/base.py\u001b[0m in \u001b[0;36m_map_values\u001b[0;34m(self, mapper, na_action)\u001b[0m\n\u001b[1;32m   1143\u001b[0m \u001b[0;34m\u001b[0m\u001b[0m\n\u001b[1;32m   1144\u001b[0m         \u001b[0;31m# mapper is a function\u001b[0m\u001b[0;34m\u001b[0m\u001b[0;34m\u001b[0m\u001b[0;34m\u001b[0m\u001b[0m\n\u001b[0;32m-> 1145\u001b[0;31m         \u001b[0mnew_values\u001b[0m \u001b[0;34m=\u001b[0m \u001b[0mmap_f\u001b[0m\u001b[0;34m(\u001b[0m\u001b[0mvalues\u001b[0m\u001b[0;34m,\u001b[0m \u001b[0mmapper\u001b[0m\u001b[0;34m)\u001b[0m\u001b[0;34m\u001b[0m\u001b[0;34m\u001b[0m\u001b[0m\n\u001b[0m\u001b[1;32m   1146\u001b[0m \u001b[0;34m\u001b[0m\u001b[0m\n\u001b[1;32m   1147\u001b[0m         \u001b[0;32mreturn\u001b[0m \u001b[0mnew_values\u001b[0m\u001b[0;34m\u001b[0m\u001b[0;34m\u001b[0m\u001b[0m\n",
      "\u001b[0;32mpandas/_libs/lib.pyx\u001b[0m in \u001b[0;36mpandas._libs.lib.map_infer\u001b[0;34m()\u001b[0m\n",
      "\u001b[0;32m~/opt/anaconda3/lib/python3.7/site-packages/pandas/core/generic.py\u001b[0m in \u001b[0;36mf\u001b[0;34m(x)\u001b[0m\n\u001b[1;32m   4701\u001b[0m \u001b[0;34m\u001b[0m\u001b[0m\n\u001b[1;32m   4702\u001b[0m             \u001b[0;32mdef\u001b[0m \u001b[0mf\u001b[0m\u001b[0;34m(\u001b[0m\u001b[0mx\u001b[0m\u001b[0;34m)\u001b[0m\u001b[0;34m:\u001b[0m\u001b[0;34m\u001b[0m\u001b[0;34m\u001b[0m\u001b[0m\n\u001b[0;32m-> 4703\u001b[0;31m                 \u001b[0;32mreturn\u001b[0m \u001b[0mlike\u001b[0m \u001b[0;32min\u001b[0m \u001b[0mensure_str\u001b[0m\u001b[0;34m(\u001b[0m\u001b[0mx\u001b[0m\u001b[0;34m)\u001b[0m\u001b[0;34m\u001b[0m\u001b[0;34m\u001b[0m\u001b[0m\n\u001b[0m\u001b[1;32m   4704\u001b[0m \u001b[0;34m\u001b[0m\u001b[0m\n\u001b[1;32m   4705\u001b[0m             \u001b[0mvalues\u001b[0m \u001b[0;34m=\u001b[0m \u001b[0mlabels\u001b[0m\u001b[0;34m.\u001b[0m\u001b[0mmap\u001b[0m\u001b[0;34m(\u001b[0m\u001b[0mf\u001b[0m\u001b[0;34m)\u001b[0m\u001b[0;34m\u001b[0m\u001b[0;34m\u001b[0m\u001b[0m\n",
      "\u001b[0;31mTypeError\u001b[0m: 'in <string>' requires string as left operand, not list"
     ]
    }
   ],
   "source": [
    "currencies = [\"Mexican Peso\", \"Euro\", \"Brazilian Real\", \"Argentine Peso\"]\n",
    "target_curr = curr_list.filter(like=currencies, axis=0)\n",
    "target_curr"
   ]
  },
  {
   "cell_type": "markdown",
   "metadata": {},
   "source": [
    "## Mensajes de Error"
   ]
  },
  {
   "cell_type": "markdown",
   "metadata": {},
   "source": [
    "Entramos a la páginas de AlphaVantage y revisamos la documentación para descargar información"
   ]
  },
  {
   "cell_type": "code",
   "execution_count": 65,
   "metadata": {},
   "outputs": [
    {
     "ename": "NameError",
     "evalue": "name 'target_curr' is not defined",
     "output_type": "error",
     "traceback": [
      "\u001b[0;31m---------------------------------------------------------------------------\u001b[0m",
      "\u001b[0;31mNameError\u001b[0m                                 Traceback (most recent call last)",
      "Cell \u001b[0;32mIn[65], line 3\u001b[0m\n\u001b[1;32m      1\u001b[0m intraday1 \u001b[38;5;241m=\u001b[39m {\n\u001b[1;32m      2\u001b[0m     \u001b[38;5;124m\"\u001b[39m\u001b[38;5;124mfunction\u001b[39m\u001b[38;5;124m\"\u001b[39m: \u001b[38;5;124m\"\u001b[39m\u001b[38;5;124mFX_INTRADAY\u001b[39m\u001b[38;5;124m\"\u001b[39m,\n\u001b[0;32m----> 3\u001b[0m     \u001b[38;5;124m\"\u001b[39m\u001b[38;5;124mto_currency\u001b[39m\u001b[38;5;124m\"\u001b[39m: target_curr[\u001b[38;5;124m\"\u001b[39m\u001b[38;5;124mcurrency code\u001b[39m\u001b[38;5;124m\"\u001b[39m]\u001b[38;5;241m.\u001b[39mvalues[\u001b[38;5;241m0\u001b[39m],\n\u001b[1;32m      4\u001b[0m     \u001b[38;5;124m\"\u001b[39m\u001b[38;5;124mfrom_currency\u001b[39m\u001b[38;5;124m\"\u001b[39m: \u001b[38;5;124m\"\u001b[39m\u001b[38;5;124mUSD\u001b[39m\u001b[38;5;124m\"\u001b[39m,\n\u001b[1;32m      5\u001b[0m     \u001b[38;5;124m\"\u001b[39m\u001b[38;5;124mapikey\u001b[39m\u001b[38;5;124m\"\u001b[39m: avkey\n\u001b[1;32m      6\u001b[0m }\n\u001b[1;32m      8\u001b[0m r \u001b[38;5;241m=\u001b[39m requests\u001b[38;5;241m.\u001b[39mget(base_url, params\u001b[38;5;241m=\u001b[39mintraday1)\n\u001b[1;32m      9\u001b[0m r\n",
      "\u001b[0;31mNameError\u001b[0m: name 'target_curr' is not defined"
     ]
    }
   ],
   "source": [
    "intraday1 = {\n",
    "    \"function\": \"FX_INTRADAY\",\n",
    "    \"to_currency\": target_curr[\"currency code\"].values[0],\n",
    "    \"from_currency\": \"USD\",\n",
    "    \"apikey\": avkey\n",
    "}\n",
    "\n",
    "r = requests.get(base_url, params=intraday1)\n",
    "r"
   ]
  },
  {
   "cell_type": "code",
   "execution_count": 113,
   "metadata": {},
   "outputs": [
    {
     "data": {
      "text/plain": [
       "{'Error Message': 'Invalid API call. Please retry or visit the documentation (https://www.alphavantage.co/documentation/) for FX_INTRADAY.'}"
      ]
     },
     "execution_count": 113,
     "metadata": {},
     "output_type": "execute_result"
    }
   ],
   "source": [
    "r.json()"
   ]
  },
  {
   "cell_type": "code",
   "execution_count": 114,
   "metadata": {},
   "outputs": [
    {
     "data": {
      "text/plain": [
       "<Response [200]>"
      ]
     },
     "execution_count": 114,
     "metadata": {},
     "output_type": "execute_result"
    }
   ],
   "source": [
    "intraday2 = {\n",
    "    \"function\": \"FX_DAILY\",\n",
    "    \"to_symbol\": target_curr[\"currency code\"].values[0],\n",
    "    \"from_symbol\": \"USD\",\n",
    "    \"apikey\": avkey,\n",
    "    \"interval\": \"1min\"\n",
    "}\n",
    "\n",
    "r = requests.get(base_url, params=intraday2)\n",
    "r"
   ]
  },
  {
   "cell_type": "markdown",
   "metadata": {},
   "source": [
    "## Manipulando Información de Respuesta\n",
    "\n",
    "Una vez obtenida la información del API, el siguiente paso es manipular la información para poder analizarla. De ser una seríe de tiempo, lo más natural sería manipularla usando un pandas DataFrame."
   ]
  },
  {
   "cell_type": "code",
   "execution_count": 66,
   "metadata": {},
   "outputs": [
    {
     "ename": "JSONDecodeError",
     "evalue": "Expecting value: line 1 column 1 (char 0)",
     "output_type": "error",
     "traceback": [
      "\u001b[0;31m---------------------------------------------------------------------------\u001b[0m",
      "\u001b[0;31mJSONDecodeError\u001b[0m                           Traceback (most recent call last)",
      "File \u001b[0;32m~/anaconda3/envs/Diplomado_DataScience/lib/python3.11/site-packages/requests/models.py:971\u001b[0m, in \u001b[0;36mResponse.json\u001b[0;34m(self, **kwargs)\u001b[0m\n\u001b[1;32m    970\u001b[0m \u001b[38;5;28;01mtry\u001b[39;00m:\n\u001b[0;32m--> 971\u001b[0m     \u001b[38;5;28;01mreturn\u001b[39;00m complexjson\u001b[38;5;241m.\u001b[39mloads(\u001b[38;5;28mself\u001b[39m\u001b[38;5;241m.\u001b[39mtext, \u001b[38;5;241m*\u001b[39m\u001b[38;5;241m*\u001b[39mkwargs)\n\u001b[1;32m    972\u001b[0m \u001b[38;5;28;01mexcept\u001b[39;00m JSONDecodeError \u001b[38;5;28;01mas\u001b[39;00m e:\n\u001b[1;32m    973\u001b[0m     \u001b[38;5;66;03m# Catch JSON-related errors and raise as requests.JSONDecodeError\u001b[39;00m\n\u001b[1;32m    974\u001b[0m     \u001b[38;5;66;03m# This aliases json.JSONDecodeError and simplejson.JSONDecodeError\u001b[39;00m\n",
      "File \u001b[0;32m~/anaconda3/envs/Diplomado_DataScience/lib/python3.11/json/__init__.py:346\u001b[0m, in \u001b[0;36mloads\u001b[0;34m(s, cls, object_hook, parse_float, parse_int, parse_constant, object_pairs_hook, **kw)\u001b[0m\n\u001b[1;32m    343\u001b[0m \u001b[38;5;28;01mif\u001b[39;00m (\u001b[38;5;28mcls\u001b[39m \u001b[38;5;129;01mis\u001b[39;00m \u001b[38;5;28;01mNone\u001b[39;00m \u001b[38;5;129;01mand\u001b[39;00m object_hook \u001b[38;5;129;01mis\u001b[39;00m \u001b[38;5;28;01mNone\u001b[39;00m \u001b[38;5;129;01mand\u001b[39;00m\n\u001b[1;32m    344\u001b[0m         parse_int \u001b[38;5;129;01mis\u001b[39;00m \u001b[38;5;28;01mNone\u001b[39;00m \u001b[38;5;129;01mand\u001b[39;00m parse_float \u001b[38;5;129;01mis\u001b[39;00m \u001b[38;5;28;01mNone\u001b[39;00m \u001b[38;5;129;01mand\u001b[39;00m\n\u001b[1;32m    345\u001b[0m         parse_constant \u001b[38;5;129;01mis\u001b[39;00m \u001b[38;5;28;01mNone\u001b[39;00m \u001b[38;5;129;01mand\u001b[39;00m object_pairs_hook \u001b[38;5;129;01mis\u001b[39;00m \u001b[38;5;28;01mNone\u001b[39;00m \u001b[38;5;129;01mand\u001b[39;00m \u001b[38;5;129;01mnot\u001b[39;00m kw):\n\u001b[0;32m--> 346\u001b[0m     \u001b[38;5;28;01mreturn\u001b[39;00m _default_decoder\u001b[38;5;241m.\u001b[39mdecode(s)\n\u001b[1;32m    347\u001b[0m \u001b[38;5;28;01mif\u001b[39;00m \u001b[38;5;28mcls\u001b[39m \u001b[38;5;129;01mis\u001b[39;00m \u001b[38;5;28;01mNone\u001b[39;00m:\n",
      "File \u001b[0;32m~/anaconda3/envs/Diplomado_DataScience/lib/python3.11/json/decoder.py:337\u001b[0m, in \u001b[0;36mJSONDecoder.decode\u001b[0;34m(self, s, _w)\u001b[0m\n\u001b[1;32m    333\u001b[0m \u001b[38;5;250m\u001b[39m\u001b[38;5;124;03m\"\"\"Return the Python representation of ``s`` (a ``str`` instance\u001b[39;00m\n\u001b[1;32m    334\u001b[0m \u001b[38;5;124;03mcontaining a JSON document).\u001b[39;00m\n\u001b[1;32m    335\u001b[0m \n\u001b[1;32m    336\u001b[0m \u001b[38;5;124;03m\"\"\"\u001b[39;00m\n\u001b[0;32m--> 337\u001b[0m obj, end \u001b[38;5;241m=\u001b[39m \u001b[38;5;28mself\u001b[39m\u001b[38;5;241m.\u001b[39mraw_decode(s, idx\u001b[38;5;241m=\u001b[39m_w(s, \u001b[38;5;241m0\u001b[39m)\u001b[38;5;241m.\u001b[39mend())\n\u001b[1;32m    338\u001b[0m end \u001b[38;5;241m=\u001b[39m _w(s, end)\u001b[38;5;241m.\u001b[39mend()\n",
      "File \u001b[0;32m~/anaconda3/envs/Diplomado_DataScience/lib/python3.11/json/decoder.py:355\u001b[0m, in \u001b[0;36mJSONDecoder.raw_decode\u001b[0;34m(self, s, idx)\u001b[0m\n\u001b[1;32m    354\u001b[0m \u001b[38;5;28;01mexcept\u001b[39;00m \u001b[38;5;167;01mStopIteration\u001b[39;00m \u001b[38;5;28;01mas\u001b[39;00m err:\n\u001b[0;32m--> 355\u001b[0m     \u001b[38;5;28;01mraise\u001b[39;00m JSONDecodeError(\u001b[38;5;124m\"\u001b[39m\u001b[38;5;124mExpecting value\u001b[39m\u001b[38;5;124m\"\u001b[39m, s, err\u001b[38;5;241m.\u001b[39mvalue) \u001b[38;5;28;01mfrom\u001b[39;00m \u001b[38;5;28;01mNone\u001b[39;00m\n\u001b[1;32m    356\u001b[0m \u001b[38;5;28;01mreturn\u001b[39;00m obj, end\n",
      "\u001b[0;31mJSONDecodeError\u001b[0m: Expecting value: line 1 column 1 (char 0)",
      "\nDuring handling of the above exception, another exception occurred:\n",
      "\u001b[0;31mJSONDecodeError\u001b[0m                           Traceback (most recent call last)",
      "Cell \u001b[0;32mIn[66], line 1\u001b[0m\n\u001b[0;32m----> 1\u001b[0m data \u001b[38;5;241m=\u001b[39m r\u001b[38;5;241m.\u001b[39mjson()\n\u001b[1;32m      2\u001b[0m data\u001b[38;5;241m.\u001b[39mkeys()\n",
      "File \u001b[0;32m~/anaconda3/envs/Diplomado_DataScience/lib/python3.11/site-packages/requests/models.py:975\u001b[0m, in \u001b[0;36mResponse.json\u001b[0;34m(self, **kwargs)\u001b[0m\n\u001b[1;32m    971\u001b[0m     \u001b[38;5;28;01mreturn\u001b[39;00m complexjson\u001b[38;5;241m.\u001b[39mloads(\u001b[38;5;28mself\u001b[39m\u001b[38;5;241m.\u001b[39mtext, \u001b[38;5;241m*\u001b[39m\u001b[38;5;241m*\u001b[39mkwargs)\n\u001b[1;32m    972\u001b[0m \u001b[38;5;28;01mexcept\u001b[39;00m JSONDecodeError \u001b[38;5;28;01mas\u001b[39;00m e:\n\u001b[1;32m    973\u001b[0m     \u001b[38;5;66;03m# Catch JSON-related errors and raise as requests.JSONDecodeError\u001b[39;00m\n\u001b[1;32m    974\u001b[0m     \u001b[38;5;66;03m# This aliases json.JSONDecodeError and simplejson.JSONDecodeError\u001b[39;00m\n\u001b[0;32m--> 975\u001b[0m     \u001b[38;5;28;01mraise\u001b[39;00m RequestsJSONDecodeError(e\u001b[38;5;241m.\u001b[39mmsg, e\u001b[38;5;241m.\u001b[39mdoc, e\u001b[38;5;241m.\u001b[39mpos)\n",
      "\u001b[0;31mJSONDecodeError\u001b[0m: Expecting value: line 1 column 1 (char 0)"
     ]
    }
   ],
   "source": [
    "data = r.json()\n",
    "data.keys()"
   ]
  },
  {
   "cell_type": "code",
   "execution_count": 116,
   "metadata": {
    "scrolled": true
   },
   "outputs": [
    {
     "data": {
      "text/plain": [
       "{'1. Information': 'FX Intraday (1min) Time Series',\n",
       " '2. From Symbol': 'USD',\n",
       " '3. To Symbol': 'MXN',\n",
       " '4. Last Refreshed': '2020-06-15 04:36:00',\n",
       " '5. Interval': '1min',\n",
       " '6. Output Size': 'Compact',\n",
       " '7. Time Zone': 'UTC'}"
      ]
     },
     "execution_count": 116,
     "metadata": {},
     "output_type": "execute_result"
    }
   ],
   "source": [
    "data[\"Meta Data\"]"
   ]
  },
  {
   "cell_type": "code",
   "execution_count": 117,
   "metadata": {},
   "outputs": [
    {
     "data": {
      "text/html": [
       "<div>\n",
       "<style scoped>\n",
       "    .dataframe tbody tr th:only-of-type {\n",
       "        vertical-align: middle;\n",
       "    }\n",
       "\n",
       "    .dataframe tbody tr th {\n",
       "        vertical-align: top;\n",
       "    }\n",
       "\n",
       "    .dataframe thead th {\n",
       "        text-align: right;\n",
       "    }\n",
       "</style>\n",
       "<table border=\"1\" class=\"dataframe\">\n",
       "  <thead>\n",
       "    <tr style=\"text-align: right;\">\n",
       "      <th></th>\n",
       "      <th>1. open</th>\n",
       "      <th>2. high</th>\n",
       "      <th>3. low</th>\n",
       "      <th>4. close</th>\n",
       "    </tr>\n",
       "  </thead>\n",
       "  <tbody>\n",
       "    <tr>\n",
       "      <th>2020-06-15 04:36:00</th>\n",
       "      <td>22.5498</td>\n",
       "      <td>22.5498</td>\n",
       "      <td>22.5465</td>\n",
       "      <td>22.5465</td>\n",
       "    </tr>\n",
       "    <tr>\n",
       "      <th>2020-06-15 04:35:00</th>\n",
       "      <td>22.5370</td>\n",
       "      <td>22.5578</td>\n",
       "      <td>22.5370</td>\n",
       "      <td>22.5470</td>\n",
       "    </tr>\n",
       "    <tr>\n",
       "      <th>2020-06-15 04:34:00</th>\n",
       "      <td>22.5336</td>\n",
       "      <td>22.5500</td>\n",
       "      <td>22.5270</td>\n",
       "      <td>22.5370</td>\n",
       "    </tr>\n",
       "    <tr>\n",
       "      <th>2020-06-15 04:33:00</th>\n",
       "      <td>22.5346</td>\n",
       "      <td>22.5406</td>\n",
       "      <td>22.5220</td>\n",
       "      <td>22.5315</td>\n",
       "    </tr>\n",
       "    <tr>\n",
       "      <th>2020-06-15 04:32:00</th>\n",
       "      <td>22.5407</td>\n",
       "      <td>22.5412</td>\n",
       "      <td>22.5220</td>\n",
       "      <td>22.5311</td>\n",
       "    </tr>\n",
       "  </tbody>\n",
       "</table>\n",
       "</div>"
      ],
      "text/plain": [
       "                     1. open  2. high   3. low 4. close\n",
       "2020-06-15 04:36:00  22.5498  22.5498  22.5465  22.5465\n",
       "2020-06-15 04:35:00  22.5370  22.5578  22.5370  22.5470\n",
       "2020-06-15 04:34:00  22.5336  22.5500  22.5270  22.5370\n",
       "2020-06-15 04:33:00  22.5346  22.5406  22.5220  22.5315\n",
       "2020-06-15 04:32:00  22.5407  22.5412  22.5220  22.5311"
      ]
     },
     "execution_count": 117,
     "metadata": {},
     "output_type": "execute_result"
    }
   ],
   "source": [
    "df_data = pd.DataFrame(data[\"Time Series FX (1min)\"]).T\n",
    "df_data.head()"
   ]
  },
  {
   "cell_type": "code",
   "execution_count": 118,
   "metadata": {
    "scrolled": true
   },
   "outputs": [
    {
     "data": {
      "text/plain": [
       "1. open     object\n",
       "2. high     object\n",
       "3. low      object\n",
       "4. close    object\n",
       "dtype: object"
      ]
     },
     "execution_count": 118,
     "metadata": {},
     "output_type": "execute_result"
    }
   ],
   "source": [
    "df_data.dtypes"
   ]
  },
  {
   "cell_type": "markdown",
   "metadata": {},
   "source": [
    "## FX Daily"
   ]
  },
  {
   "cell_type": "code",
   "execution_count": 119,
   "metadata": {},
   "outputs": [
    {
     "data": {
      "text/plain": [
       "<Response [200]>"
      ]
     },
     "execution_count": 119,
     "metadata": {},
     "output_type": "execute_result"
    }
   ],
   "source": [
    "intraday1 = {\n",
    "    \"function\": \"FX_DAILY\",\n",
    "    \"to_symbol\": target_curr[\"currency code\"].values[0],\n",
    "    \"from_symbol\": \"USD\",\n",
    "    \"apikey\": avkey,\n",
    "    \"outputsize\": \"full\",\n",
    "}\n",
    "\n",
    "r = requests.get(base_url, params=intraday1)\n",
    "r"
   ]
  },
  {
   "cell_type": "code",
   "execution_count": 120,
   "metadata": {},
   "outputs": [],
   "source": [
    "data = r.json()"
   ]
  },
  {
   "cell_type": "code",
   "execution_count": 121,
   "metadata": {},
   "outputs": [],
   "source": [
    "df_data = pd.DataFrame(data[\"Time Series FX (Daily)\"], dtype=float).T.sort_index()"
   ]
  },
  {
   "cell_type": "code",
   "execution_count": 122,
   "metadata": {},
   "outputs": [
    {
     "data": {
      "text/html": [
       "<div>\n",
       "<style scoped>\n",
       "    .dataframe tbody tr th:only-of-type {\n",
       "        vertical-align: middle;\n",
       "    }\n",
       "\n",
       "    .dataframe tbody tr th {\n",
       "        vertical-align: top;\n",
       "    }\n",
       "\n",
       "    .dataframe thead th {\n",
       "        text-align: right;\n",
       "    }\n",
       "</style>\n",
       "<table border=\"1\" class=\"dataframe\">\n",
       "  <thead>\n",
       "    <tr style=\"text-align: right;\">\n",
       "      <th></th>\n",
       "      <th>1. open</th>\n",
       "      <th>2. high</th>\n",
       "      <th>3. low</th>\n",
       "      <th>4. close</th>\n",
       "    </tr>\n",
       "  </thead>\n",
       "  <tbody>\n",
       "    <tr>\n",
       "      <th>2014-11-24</th>\n",
       "      <td>13.6205</td>\n",
       "      <td>13.6625</td>\n",
       "      <td>13.6002</td>\n",
       "      <td>13.6552</td>\n",
       "    </tr>\n",
       "    <tr>\n",
       "      <th>2014-11-25</th>\n",
       "      <td>13.6564</td>\n",
       "      <td>13.6840</td>\n",
       "      <td>13.6150</td>\n",
       "      <td>13.6745</td>\n",
       "    </tr>\n",
       "    <tr>\n",
       "      <th>2014-11-26</th>\n",
       "      <td>13.6740</td>\n",
       "      <td>13.7658</td>\n",
       "      <td>13.6390</td>\n",
       "      <td>13.7174</td>\n",
       "    </tr>\n",
       "    <tr>\n",
       "      <th>2014-11-27</th>\n",
       "      <td>13.7184</td>\n",
       "      <td>13.7856</td>\n",
       "      <td>13.6915</td>\n",
       "      <td>13.7601</td>\n",
       "    </tr>\n",
       "    <tr>\n",
       "      <th>2014-11-28</th>\n",
       "      <td>13.7609</td>\n",
       "      <td>13.9583</td>\n",
       "      <td>13.7505</td>\n",
       "      <td>13.9200</td>\n",
       "    </tr>\n",
       "    <tr>\n",
       "      <th>...</th>\n",
       "      <td>...</td>\n",
       "      <td>...</td>\n",
       "      <td>...</td>\n",
       "      <td>...</td>\n",
       "    </tr>\n",
       "    <tr>\n",
       "      <th>2020-06-09</th>\n",
       "      <td>21.4998</td>\n",
       "      <td>21.9312</td>\n",
       "      <td>21.4500</td>\n",
       "      <td>21.8696</td>\n",
       "    </tr>\n",
       "    <tr>\n",
       "      <th>2020-06-10</th>\n",
       "      <td>21.8740</td>\n",
       "      <td>22.0459</td>\n",
       "      <td>21.6630</td>\n",
       "      <td>21.8897</td>\n",
       "    </tr>\n",
       "    <tr>\n",
       "      <th>2020-06-11</th>\n",
       "      <td>21.8897</td>\n",
       "      <td>22.9058</td>\n",
       "      <td>21.8460</td>\n",
       "      <td>22.8350</td>\n",
       "    </tr>\n",
       "    <tr>\n",
       "      <th>2020-06-12</th>\n",
       "      <td>22.8270</td>\n",
       "      <td>22.9425</td>\n",
       "      <td>22.1700</td>\n",
       "      <td>22.2080</td>\n",
       "    </tr>\n",
       "    <tr>\n",
       "      <th>2020-06-15</th>\n",
       "      <td>22.4674</td>\n",
       "      <td>22.6074</td>\n",
       "      <td>22.4417</td>\n",
       "      <td>22.5550</td>\n",
       "    </tr>\n",
       "  </tbody>\n",
       "</table>\n",
       "<p>1451 rows × 4 columns</p>\n",
       "</div>"
      ],
      "text/plain": [
       "            1. open  2. high   3. low  4. close\n",
       "2014-11-24  13.6205  13.6625  13.6002   13.6552\n",
       "2014-11-25  13.6564  13.6840  13.6150   13.6745\n",
       "2014-11-26  13.6740  13.7658  13.6390   13.7174\n",
       "2014-11-27  13.7184  13.7856  13.6915   13.7601\n",
       "2014-11-28  13.7609  13.9583  13.7505   13.9200\n",
       "...             ...      ...      ...       ...\n",
       "2020-06-09  21.4998  21.9312  21.4500   21.8696\n",
       "2020-06-10  21.8740  22.0459  21.6630   21.8897\n",
       "2020-06-11  21.8897  22.9058  21.8460   22.8350\n",
       "2020-06-12  22.8270  22.9425  22.1700   22.2080\n",
       "2020-06-15  22.4674  22.6074  22.4417   22.5550\n",
       "\n",
       "[1451 rows x 4 columns]"
      ]
     },
     "execution_count": 122,
     "metadata": {},
     "output_type": "execute_result"
    }
   ],
   "source": [
    "df_data"
   ]
  },
  {
   "cell_type": "code",
   "execution_count": 123,
   "metadata": {},
   "outputs": [
    {
     "data": {
      "image/png": "[encoded data removed]",
      "text/plain": [
       "<Figure size 864x288 with 1 Axes>"
      ]
     },
     "metadata": {
      "image/png": {
       "height": 297,
       "width": 715
      },
      "needs_background": "light"
     },
     "output_type": "display_data"
    }
   ],
   "source": [
    "(df_data.apply(lambda x: x[\"4. close\"] - x[\"1. open\"], axis=1)\n",
    "        .plot(figsize=(12, 4), linewidth=1))\n",
    "plt.xticks(rotation=90)\n",
    "plt.grid(alpha=0.4)"
   ]
  },
  {
   "cell_type": "markdown",
   "metadata": {},
   "source": [
    "<h1 style=\"color:#872325\">API Wrappers (Liberías)</h1>\n",
    "\n",
    "Como hemos visto, utilizar un API require la codificación de los parámetros que espera recibir el servidor, hacer la llamada al servidor para validar la respuesta y manipular la información recibida a fin de hacer uso de esta.\n",
    "\n",
    "De querer obtener el mismo formato de respuesta sería necesario crear una librería en Python que contemple cada uno de estos pasos, lo cuál se podría volver una tarea tediosa.\n",
    "\n",
    "Un **API Wrapper** es una librería escrita en un lenguaje de programación que nos da acceso a un API usando un lenguaje de programación específico\n",
    "\n",
    "**Nota**: Una de las desventajas de usar un API Wrapper son los posibles *bugs* que el wrapper podría tener."
   ]
  },
  {
   "cell_type": "markdown",
   "metadata": {},
   "source": [
    "https://github.com/RomelTorres/alpha_vantage\n",
    "\n",
    "```\n",
    "pip install alpha_vantage\n",
    "```"
   ]
  },
  {
   "cell_type": "code",
   "execution_count": 67,
   "metadata": {},
   "outputs": [
    {
     "name": "stdout",
     "output_type": "stream",
     "text": [
      "Collecting alpha_vantage\n",
      "  Downloading alpha_vantage-2.3.1-py3-none-any.whl.metadata (12 kB)\n",
      "Collecting aiohttp (from alpha_vantage)\n",
      "  Downloading aiohttp-3.9.3-cp311-cp311-macosx_10_9_x86_64.whl.metadata (7.4 kB)\n",
      "Requirement already satisfied: requests in /Users/marianabarahona/anaconda3/envs/Diplomado_DataScience/lib/python3.11/site-packages (from alpha_vantage) (2.31.0)\n",
      "Collecting aiosignal>=1.1.2 (from aiohttp->alpha_vantage)\n",
      "  Downloading aiosignal-1.3.1-py3-none-any.whl.metadata (4.0 kB)\n",
      "Requirement already satisfied: attrs>=17.3.0 in /Users/marianabarahona/anaconda3/envs/Diplomado_DataScience/lib/python3.11/site-packages (from aiohttp->alpha_vantage) (23.1.0)\n",
      "Collecting frozenlist>=1.1.1 (from aiohttp->alpha_vantage)\n",
      "  Downloading frozenlist-1.4.1-cp311-cp311-macosx_10_9_x86_64.whl.metadata (12 kB)\n",
      "Collecting multidict<7.0,>=4.5 (from aiohttp->alpha_vantage)\n",
      "  Downloading multidict-6.0.5-cp311-cp311-macosx_10_9_x86_64.whl.metadata (4.2 kB)\n",
      "Collecting yarl<2.0,>=1.0 (from aiohttp->alpha_vantage)\n",
      "  Downloading yarl-1.9.4-cp311-cp311-macosx_10_9_x86_64.whl.metadata (31 kB)\n",
      "Requirement already satisfied: charset-normalizer<4,>=2 in /Users/marianabarahona/anaconda3/envs/Diplomado_DataScience/lib/python3.11/site-packages (from requests->alpha_vantage) (3.3.2)\n",
      "Requirement already satisfied: idna<4,>=2.5 in /Users/marianabarahona/anaconda3/envs/Diplomado_DataScience/lib/python3.11/site-packages (from requests->alpha_vantage) (3.4)\n",
      "Requirement already satisfied: urllib3<3,>=1.21.1 in /Users/marianabarahona/anaconda3/envs/Diplomado_DataScience/lib/python3.11/site-packages (from requests->alpha_vantage) (1.26.18)\n",
      "Requirement already satisfied: certifi>=2017.4.17 in /Users/marianabarahona/anaconda3/envs/Diplomado_DataScience/lib/python3.11/site-packages (from requests->alpha_vantage) (2024.2.2)\n",
      "Downloading alpha_vantage-2.3.1-py3-none-any.whl (31 kB)\n",
      "Downloading aiohttp-3.9.3-cp311-cp311-macosx_10_9_x86_64.whl (398 kB)\n",
      "\u001b[2K   \u001b[90m━━━━━━━━━━━━━━━━━━━━━━━━━━━━━━━━━━━━━━━━\u001b[0m \u001b[32m398.5/398.5 kB\u001b[0m \u001b[31m4.3 MB/s\u001b[0m eta \u001b[36m0:00:00\u001b[0ma \u001b[36m0:00:01\u001b[0m\n",
      "\u001b[?25hDownloading aiosignal-1.3.1-py3-none-any.whl (7.6 kB)\n",
      "Downloading frozenlist-1.4.1-cp311-cp311-macosx_10_9_x86_64.whl (55 kB)\n",
      "\u001b[2K   \u001b[90m━━━━━━━━━━━━━━━━━━━━━━━━━━━━━━━━━━━━━━━━\u001b[0m \u001b[32m55.3/55.3 kB\u001b[0m \u001b[31m5.4 MB/s\u001b[0m eta \u001b[36m0:00:00\u001b[0m\n",
      "\u001b[?25hDownloading multidict-6.0.5-cp311-cp311-macosx_10_9_x86_64.whl (30 kB)\n",
      "Downloading yarl-1.9.4-cp311-cp311-macosx_10_9_x86_64.whl (83 kB)\n",
      "\u001b[2K   \u001b[90m━━━━━━━━━━━━━━━━━━━━━━━━━━━━━━━━━━━━━━━━\u001b[0m \u001b[32m83.2/83.2 kB\u001b[0m \u001b[31m7.6 MB/s\u001b[0m eta \u001b[36m0:00:00\u001b[0m\n",
      "\u001b[?25hInstalling collected packages: multidict, frozenlist, yarl, aiosignal, aiohttp, alpha_vantage\n",
      "Successfully installed aiohttp-3.9.3 aiosignal-1.3.1 alpha_vantage-2.3.1 frozenlist-1.4.1 multidict-6.0.5 yarl-1.9.4\n",
      "Note: you may need to restart the kernel to use updated packages.\n"
     ]
    }
   ],
   "source": [
    "pip install alpha_vantage"
   ]
  },
  {
   "cell_type": "code",
   "execution_count": 68,
   "metadata": {
    "scrolled": true
   },
   "outputs": [],
   "source": [
    "from alpha_vantage.foreignexchange import ForeignExchange"
   ]
  },
  {
   "cell_type": "code",
   "execution_count": null,
   "metadata": {},
   "outputs": [],
   "source": []
  },
  {
   "cell_type": "code",
   "execution_count": 70,
   "metadata": {},
   "outputs": [
    {
     "data": {
      "text/plain": [
       "<Axes: xlabel='date'>"
      ]
     },
     "execution_count": 70,
     "metadata": {},
     "output_type": "execute_result"
    },
    {
     "data": {
      "image/png": "[encoded data removed]",
      "text/plain": [
       "<Figure size 640x480 with 1 Axes>"
      ]
     },
     "metadata": {
      "image/png": {
       "height": 416,
       "width": 556
      }
     },
     "output_type": "display_data"
    }
   ],
   "source": [
    "fx = ForeignExchange(key=avkey, output_format=\"pandas\")\n",
    "data, metadata = fx.get_currency_exchange_daily(\"USD\", \"MXN\")\n",
    "data[\"4. close\"].plot()"
   ]
  },
  {
   "cell_type": "markdown",
   "metadata": {},
   "source": [
    "<h2 style=\"color:crimson\">Tarea 5</h2>\n",
    "\n",
    "1. Repite el ejemplo *Arxiv ML Papers (I)*, agrega dos nuevas columnas al DataFrame final: `Abstract`, con el resumen de cada paper; `Submitted`, con la fecha en la que fue agregado al sistema. **Hint**: Ambos elementos se encuentran dentro de la *url* encontrada.\n",
    "\n",
    "----\n",
    "\n",
    "2. Por medio de la librería `requests` y el API de AlphaVantage, consigue los precios históricos de las monedas `[\"MXN\", \"EUR\", \"BRL\", \"ARS\", \"CHF\"]` respecto al dólar (todos los precios deben estar en dólares). Crea un DataFrame con cada colúmna la moneda de referencia:\n",
    "\n",
    "<table border=\"1\" class=\"dataframe\">  <thead>    <tr style=\"text-align: right;\">      <th></th>      <th>MXN</th>      <th>EUR</th>      <th>BRL</th>      <th>ARS</th>      <th>CHF</th>    </tr>  </thead>  <tbody>    <tr>      <th>2014-11-24</th>      <td>0.0732</td>      <td>1.2438</td>      <td>0.3920</td>      <td>0.1169</td>      <td>1.0342</td>    </tr>    <tr>      <th>2014-11-25</th>      <td>0.0731</td>      <td>1.2473</td>      <td>0.3955</td>      <td>0.1169</td>      <td>1.0370</td>    </tr>    <tr>      <th>2014-11-26</th>      <td>0.0728</td>      <td>1.2507</td>      <td>0.3995</td>      <td>0.1168</td>      <td>1.0401</td>    </tr>    <tr>      <th>2014-11-27</th>      <td>0.0726</td>      <td>1.2458</td>      <td>0.3947</td>      <td>0.1169</td>      <td>1.0363</td>    </tr>    <tr>      <th>2014-11-28</th>      <td>0.0717</td>      <td>1.2451</td>      <td>0.3891</td>      <td>0.1168</td>      <td>1.0351</td>    </tr>  </tbody></table>\n",
    "\n",
    "\n",
    "----\n",
    "3. Con el DataFrame creado en el ejercicio 2, crea el siguiente mapa de calor con la correlación entre cada una de las monedas. **hint**: Revisa que métodos tiene un DataFrame para crear correlaciones; considera la librería `seaborn`.\n",
    "\n",
    "![](../files/lec04/imgs/heatmap.png)\n",
    "\n",
    "---\n",
    "\n",
    "4. Con el DataFrame creado en el ejercicio 2, crea un nuevo DataFrame que incluya una correlación móvil con ventana de 30 días de cada una de las monedas respecto a `\"MXN\"`. **hint**: Investiga sobre el método `.xs` de un DataFrame\n",
    "\n",
    "<table border=\"1\" class=\"dataframe\">  <thead>    <tr style=\"text-align: right;\">      <th></th>      <th>EUR</th>      <th>BRL</th>      <th>ARS</th>      <th>CHF</th>    </tr>  </thead>  <tbody>    <tr>      <th>2015-03-19</th>      <td>0.900941</td>      <td>0.870440</td>      <td>0.835029</td>      <td>0.916637</td>    </tr>    <tr>      <th>2015-03-20</th>      <td>0.874866</td>      <td>0.815453</td>      <td>0.762308</td>      <td>0.903594</td>    </tr>    <tr>      <th>2015-03-22</th>      <td>0.866783</td>      <td>0.789977</td>      <td>0.726098</td>      <td>0.900547</td>    </tr>    <tr>      <th>2015-03-23</th>      <td>0.835823</td>      <td>0.728781</td>      <td>0.643129</td>      <td>0.885424</td>    </tr>    <tr>      <th>2015-03-24</th>      <td>0.801267</td>      <td>0.671188</td>      <td>0.560149</td>      <td>0.877682</td>    </tr>  </tbody></table>\n",
    "\n",
    "---\n",
    "\n",
    "5. Con el DataFrame creado en el ejercicio 4, crea la siguiente figura con _scatterplots_ entre todas las combinaciones de las correlaciones respecto a `\"MXN\"`. ¿Encuentras algún patrón en alguna combinación?\n",
    "\n",
    "![](../files/lec04/imgs/scatter.png)\n",
    "\n",
    "---\n",
    "\n",
    "6. Con el DataFrame creado en el ejercicio 4, crea la siguiente figura, la cuál representa, a cada observación, la correlación promedio entre todas las monedas respecto a `\"MXN\"` y unas bandas que representan la correlación máxima y mínima a cada observación.\n",
    "\n",
    "![](../files/lec04/imgs/corr_ts.png)"
   ]
  },
  {
   "cell_type": "markdown",
   "metadata": {},
   "source": [
    "## References\n",
    "\n",
    "\n",
    "* https://developer.mozilla.org/en-US/docs/Web\n",
    "* https://www.w3schools.com/tags/ref_httpmethods.asp"
   ]
  }
 ],
 "metadata": {
  "kernelspec": {
   "display_name": "Python 3 (ipykernel)",
   "language": "python",
   "name": "python3"
  },
  "language_info": {
   "codemirror_mode": {
    "name": "ipython",
    "version": 3
   },
   "file_extension": ".py",
   "mimetype": "text/x-python",
   "name": "python",
   "nbconvert_exporter": "python",
   "pygments_lexer": "ipython3",
   "version": "3.11.5"
  }
 },
 "nbformat": 4,
 "nbformat_minor": 2
}
